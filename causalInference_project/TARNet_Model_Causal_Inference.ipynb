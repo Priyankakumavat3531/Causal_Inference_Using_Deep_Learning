{
  "nbformat": 4,
  "nbformat_minor": 0,
  "metadata": {
    "colab": {
      "provenance": []
    },
    "kernelspec": {
      "name": "python3",
      "display_name": "Python 3"
    },
    "language_info": {
      "name": "python"
    }
  },
  "cells": [
    {
      "cell_type": "code",
      "source": [
        "# TARNet (Baseline model) : A type of Deep Learning Model"
      ],
      "metadata": {
        "id": "jUZUagn0sYTR"
      },
      "execution_count": 16,
      "outputs": []
    },
    {
      "cell_type": "code",
      "execution_count": 17,
      "metadata": {
        "colab": {
          "base_uri": "https://localhost:8080/"
        },
        "id": "GKt9KHvuhHtM",
        "outputId": "469440a6-3fd2-41ef-db1d-597838673529"
      },
      "outputs": [
        {
          "output_type": "stream",
          "name": "stdout",
          "text": [
            "2.9.2\n"
          ]
        }
      ],
      "source": [
        "# import packages\n",
        "\n",
        "import tensorflow as tf\n",
        "import numpy as np #numpy is the numerical computing package in python\n",
        "import datetime    #we'll use dates to label our logs\n",
        "print(tf.__version__)"
      ]
    },
    {
      "cell_type": "code",
      "source": [
        "# DataSet:\n",
        "# The IHDP dataset used in this example is a naturalistic simulation introduced in Hill, 2011 to evaluate estimation of heterogeneous \n",
        "# treatment effects (CATE). The 25 covariates/features for the 747 units (139 treated) in the dataset were taken from an experiment, \n",
        "# but Hill simulated the outcomes to create known counterfactuals. The data is available from Fredrik Johansson's website. \n",
        "# IHDP is the de facto benchmark in this literature."
      ],
      "metadata": {
        "id": "KGM6pnLzwmei"
      },
      "execution_count": 18,
      "outputs": []
    },
    {
      "cell_type": "code",
      "source": [
        "# Extracting Data:\n",
        "\n",
        "from sklearn.preprocessing import StandardScaler\n",
        "!wget -nc http://www.fredjo.com/files/ihdp_npci_1-100.train.npz\n",
        "!wget -nc http://www.fredjo.com/files/ihdp_npci_1-100.test.npz "
      ],
      "metadata": {
        "colab": {
          "base_uri": "https://localhost:8080/"
        },
        "id": "bO3r8-ZXxFNJ",
        "outputId": "0ac3b1a8-bdfc-4d3e-8f83-f3b84a151678"
      },
      "execution_count": 19,
      "outputs": [
        {
          "output_type": "stream",
          "name": "stdout",
          "text": [
            "File ‘ihdp_npci_1-100.train.npz’ already there; not retrieving.\n",
            "\n",
            "File ‘ihdp_npci_1-100.test.npz’ already there; not retrieving.\n",
            "\n"
          ]
        }
      ]
    },
    {
      "cell_type": "code",
      "source": [
        "# function for loading the data\n",
        "\n",
        "def load_IHDP_data(training_data,testing_data,i=7):\n",
        "    with open(training_data,'rb') as trf, open(testing_data,'rb') as tef:\n",
        "        train_data=np.load(trf); test_data=np.load(tef)\n",
        "        y=np.concatenate(   (train_data['yf'][:,i],   test_data['yf'][:,i])).astype('float32') #most GPUs only compute 32-bit floats\n",
        "        t=np.concatenate(   (train_data['t'][:,i],    test_data['t'][:,i])).astype('float32')\n",
        "        x=np.concatenate(   (train_data['x'][:,:,i],  test_data['x'][:,:,i]),axis=0).astype('float32')\n",
        "        mu_0=np.concatenate((train_data['mu0'][:,i],  test_data['mu0'][:,i])).astype('float32')\n",
        "        mu_1=np.concatenate((train_data['mu1'][:,i],  test_data['mu1'][:,i])).astype('float32')\n",
        " \n",
        "        data={'x':x,'t':t,'y':y,'t':t,'mu_0':mu_0,'mu_1':mu_1}\n",
        "        data['t']=data['t'].reshape(-1,1) #we're just padding one dimensional vectors with an additional dimension \n",
        "        data['y']=data['y'].reshape(-1,1)\n",
        "        \n",
        "        #rescaling y between 0 and 1 often makes training of DL regressors easier\n",
        "        data['y_scaler'] = StandardScaler().fit(data['y'])\n",
        "        data['ys'] = data['y_scaler'].transform(data['y'])\n",
        " \n",
        "    return data\n",
        " \n",
        "data=load_IHDP_data(training_data='./ihdp_npci_1-100.train.npz',testing_data='./ihdp_npci_1-100.test.npz')"
      ],
      "metadata": {
        "id": "2bN98AVHxwVS"
      },
      "execution_count": 20,
      "outputs": []
    },
    {
      "cell_type": "code",
      "source": [
        "# data is a dictionary (equivalent to a list in R). I'll print out a bit for you to see what it looks like:\n",
        "\n",
        "for key in data:\n",
        "  if key == 'y_scaler': continue\n",
        "  print(key, data[key][:5])"
      ],
      "metadata": {
        "colab": {
          "base_uri": "https://localhost:8080/"
        },
        "id": "_qcADnds7QL4",
        "outputId": "4879c255-1726-4ec0-e134-61204ae82ffb"
      },
      "execution_count": 21,
      "outputs": [
        {
          "output_type": "stream",
          "name": "stdout",
          "text": [
            "x [[-0.65613806 -1.0024741  -0.360898    0.16170253  0.24605164 -0.8577868\n",
            "   1.          0.          0.          0.          1.          0.\n",
            "   0.          1.          1.          1.          0.          1.\n",
            "   0.          0.          0.          0.          1.          0.\n",
            "   0.        ]\n",
            " [-1.7153288  -1.0024741  -0.733261    0.16170253  1.1212925   0.9639847\n",
            "   1.          0.          1.          0.          0.          1.\n",
            "   0.          1.          1.          1.          1.          1.\n",
            "   0.          0.          0.          0.          0.          0.\n",
            "   0.        ]\n",
            " [ 0.5543657   0.19681813 -0.360898   -0.879606   -0.6917064  -1.0234023\n",
            "   1.          0.          0.          1.          0.          0.\n",
            "   0.          2.          0.          1.          0.          1.\n",
            "   0.          0.          0.          0.          0.          1.\n",
            "   0.        ]\n",
            " [ 0.53274953  0.5965822  -1.4779869   0.16170253  1.0587753  -0.8577868\n",
            "   1.          0.          0.          1.          0.          0.\n",
            "   0.          1.          1.          0.          1.          1.\n",
            "   0.          0.          0.          0.          0.          1.\n",
            "   0.        ]\n",
            " [-0.50482506 -0.20294595  0.01146499  2.2443194   0.5586377  -0.6921712\n",
            "   0.          0.          0.          1.          0.          0.\n",
            "   1.          1.          0.          1.          0.          1.\n",
            "   0.          0.          0.          0.          0.          0.\n",
            "   0.        ]]\n",
            "t [[0.]\n",
            " [0.]\n",
            " [0.]\n",
            " [0.]\n",
            " [0.]]\n",
            "y [[ 4.868248 ]\n",
            " [ 9.931342 ]\n",
            " [ 4.8483024]\n",
            " [11.87751  ]\n",
            " [ 3.594292 ]]\n",
            "mu_0 [ 4.704035   9.01164    4.3636875 10.735007   3.948971 ]\n",
            "mu_1 [8.487885 9.137982 8.412783 9.312975 8.312921]\n",
            "ys [[-0.15342326]\n",
            " [ 1.7950603 ]\n",
            " [-0.16109915]\n",
            " [ 2.5440245 ]\n",
            " [-0.64369315]]\n"
          ]
        }
      ]
    },
    {
      "cell_type": "code",
      "source": [
        "# import packages for DL model\n",
        "\n",
        "from tensorflow import keras\n",
        "from tensorflow.keras.layers import Input\n",
        "from tensorflow.keras.layers import Dense\n",
        "from tensorflow.keras.layers import Concatenate\n",
        "from tensorflow.keras import regularizers\n",
        "from tensorflow.keras import Model\n"
      ],
      "metadata": {
        "id": "N43nvZkQm4Zz"
      },
      "execution_count": 22,
      "outputs": []
    },
    {
      "cell_type": "code",
      "source": [
        "# function to build the model using Tensorflow 2's functional API. The functional API is one of three API's in Tensorflow\n",
        "\n",
        "def make_tarnet(input_dim, reg_l2):\n",
        "    '''\n",
        "    The first argument is the column dimension of our data.\n",
        "    It needs to be specified because the functional API creates a static computational graph\n",
        "    The second argument is the strength of regularization we'll apply to the output layers\n",
        "    '''\n",
        "    x = Input(shape=(input_dim,), name='input')\n",
        "\n",
        "    # REPRESENTATION (no regularization to the representation layers)\n",
        "    phi = Dense(units=200, activation='elu', kernel_initializer='RandomNormal',name='phi_1')(x)\n",
        "    phi = Dense(units=200, activation='elu', kernel_initializer='RandomNormal',name='phi_2')(phi)\n",
        "    phi = Dense(units=200, activation='elu', kernel_initializer='RandomNormal',name='phi_3')(phi)\n",
        "\n",
        "    # HYPOTHESIS\n",
        "    y0_hidden = Dense(units=100, activation='elu', kernel_regularizer=regularizers.l2(reg_l2),name='y0_hidden_1')(phi)\n",
        "    y1_hidden = Dense(units=100, activation='elu', kernel_regularizer=regularizers.l2(reg_l2),name='y1_hidden_1')(phi)\n",
        "\n",
        "    # second layer\n",
        "    y0_hidden = Dense(units=100, activation='elu', kernel_regularizer=regularizers.l2(reg_l2),name='y0_hidden_2')(y0_hidden)\n",
        "    y1_hidden = Dense(units=100, activation='elu', kernel_regularizer=regularizers.l2(reg_l2),name='y1_hidden_2')(y1_hidden)\n",
        "\n",
        "    # third\n",
        "    y0_predictions = Dense(units=1, activation=None, kernel_regularizer=regularizers.l2(reg_l2), name='y0_predictions')(y0_hidden)\n",
        "    y1_predictions = Dense(units=1, activation=None, kernel_regularizer=regularizers.l2(reg_l2), name='y1_predictions')(y1_hidden)\n",
        "\n",
        "    #a convenience \"layer\" that concatenates arrays as columns in a matrix\n",
        "    concat_pred = Concatenate(1)([y0_predictions, y1_predictions])\n",
        "    #the declarations above have specified the computational graph of our network, now we instantiate it\n",
        "    model = Model(inputs=x, outputs=concat_pred)\n",
        "\n",
        "    return model"
      ],
      "metadata": {
        "id": "6eZjY0cVtcPb"
      },
      "execution_count": 23,
      "outputs": []
    },
    {
      "cell_type": "code",
      "source": [
        "# The summary method can be used to confirm that the architecture is specified correctly.\n",
        "\n",
        "tarnet_model=make_tarnet(25,.01)\n",
        "\n",
        "print(tarnet_model.summary())\n",
        "tf.keras.utils.plot_model(tarnet_model, show_shapes=True, show_layer_names=True, to_file='tarnet.png')\n",
        "\n",
        "from IPython.display import Image             # this just Jupyter notebook stuff\n",
        "Image(retina=True, filename='tarnet.png')     "
      ],
      "metadata": {
        "colab": {
          "base_uri": "https://localhost:8080/",
          "height": 1000
        },
        "id": "0OcRTtARtu2x",
        "outputId": "1b58f827-8ced-4a0e-95e4-4021e01c19d8"
      },
      "execution_count": 24,
      "outputs": [
        {
          "output_type": "stream",
          "name": "stdout",
          "text": [
            "Model: \"model_1\"\n",
            "__________________________________________________________________________________________________\n",
            " Layer (type)                   Output Shape         Param #     Connected to                     \n",
            "==================================================================================================\n",
            " input (InputLayer)             [(None, 25)]         0           []                               \n",
            "                                                                                                  \n",
            " phi_1 (Dense)                  (None, 200)          5200        ['input[0][0]']                  \n",
            "                                                                                                  \n",
            " phi_2 (Dense)                  (None, 200)          40200       ['phi_1[0][0]']                  \n",
            "                                                                                                  \n",
            " phi_3 (Dense)                  (None, 200)          40200       ['phi_2[0][0]']                  \n",
            "                                                                                                  \n",
            " y0_hidden_1 (Dense)            (None, 100)          20100       ['phi_3[0][0]']                  \n",
            "                                                                                                  \n",
            " y1_hidden_1 (Dense)            (None, 100)          20100       ['phi_3[0][0]']                  \n",
            "                                                                                                  \n",
            " y0_hidden_2 (Dense)            (None, 100)          10100       ['y0_hidden_1[0][0]']            \n",
            "                                                                                                  \n",
            " y1_hidden_2 (Dense)            (None, 100)          10100       ['y1_hidden_1[0][0]']            \n",
            "                                                                                                  \n",
            " y0_predictions (Dense)         (None, 1)            101         ['y0_hidden_2[0][0]']            \n",
            "                                                                                                  \n",
            " y1_predictions (Dense)         (None, 1)            101         ['y1_hidden_2[0][0]']            \n",
            "                                                                                                  \n",
            " concatenate_1 (Concatenate)    (None, 2)            0           ['y0_predictions[0][0]',         \n",
            "                                                                  'y1_predictions[0][0]']         \n",
            "                                                                                                  \n",
            "==================================================================================================\n",
            "Total params: 146,202\n",
            "Trainable params: 146,202\n",
            "Non-trainable params: 0\n",
            "__________________________________________________________________________________________________\n",
            "None\n"
          ]
        },
        {
          "output_type": "execute_result",
          "data": {
            "image/png": "[encoded data removed]",
            "text/plain": [
              "<IPython.core.display.Image object>"
            ]
          },
          "metadata": {
            "image/png": {
              "width": 330,
              "height": 424
            }
          },
          "execution_count": 24
        }
      ]
    },
    {
      "cell_type": "code",
      "source": [
        "# Specifying the loss function:\n",
        "# There are again at least four different ways to specify loss functions in Tensorflow2: if you have a standard loss there are built-in options, \n",
        "# you can specify them as custom functions, custom objects, or build them into custom layers of your network. Here we've written a function.\n",
        "# Note that we compute losses separately and just add them to get the whole loss. Tensorflow will apply the gradients appropriately to the \n",
        "# different outcome and representation layers."
      ],
      "metadata": {
        "id": "885P3g70t-lD"
      },
      "execution_count": 25,
      "outputs": []
    },
    {
      "cell_type": "code",
      "source": [
        "# Specifying the loss function:\n",
        "\n",
        "# every loss function in TF2 takes 2 arguments, a vector of true values and a vector predictions\n",
        "\n",
        "def regression_loss(concat_true, concat_pred):\n",
        "    #computes a standard MSE loss for TARNet\n",
        "    y_true = concat_true[:, 0] #get individual vectors\n",
        "    t_true = concat_true[:, 1]\n",
        "\n",
        "    y0_pred = concat_pred[:, 0]\n",
        "    y1_pred = concat_pred[:, 1]\n",
        "\n",
        "    #Each head outputs a prediction for both potential outcomes\n",
        "    #We use t_true as a switch to only calculate the factual loss\n",
        "\n",
        "    loss0 = tf.reduce_sum((1. - t_true) * tf.square(y_true - y0_pred))\n",
        "    loss1 = tf.reduce_sum(t_true * tf.square(y_true - y1_pred))\n",
        "    \n",
        "    return loss0 + loss1"
      ],
      "metadata": {
        "id": "Cqfraf9KvRHU"
      },
      "execution_count": 26,
      "outputs": []
    },
    {
      "cell_type": "code",
      "source": [
        "# Training and Fitting the Model\n",
        "\n",
        "# 1: used stochastic gradient descent to optimize the model with an initial learning rate, we can also use ADAM too\n",
        "# 2: While we should experiment with different learning rates, I recommend having a conservative (smaller) learning rate because we really\n",
        "#    want our estimator to be unbiased.\n",
        "# 3: To avoid overfitting, we stop training deep learning models when the validation loss stops improving. In Tensorflow the EarlyStopping \n",
        "#    callback automatically stops training after a number of epochs with no improvement on the validation loss (patience parameter). \n",
        "#    The ReduceLROnPlateau adaptively lowers the learning rate of the optimizer as we approach validation loss plateaus so that the \n",
        "#    optimizer does not overshoot the current optimum.\n",
        "# 4: Here used a mini-batch size of 64. We can also have batch sizes up to 200 with this dataset. \n",
        "#    The batch size is an important consideration for these causal inference architectures because you really want to make \n",
        "#    sure each mini-batch has both treatment and control examples for the representation layers. This is obviously less of a problem for \n",
        "#    datasets with high proportions of treated units."
      ],
      "metadata": {
        "id": "u6_u70tryOBn"
      },
      "execution_count": 27,
      "outputs": []
    },
    {
      "cell_type": "code",
      "source": [
        "from tensorflow.keras.callbacks import EarlyStopping, ReduceLROnPlateau, TerminateOnNaN\n",
        "from tensorflow.keras.optimizers import SGD\n",
        "\n",
        "val_split=0.2\n",
        "batch_size=64\n",
        "verbose=1\n",
        "i = 0\n",
        "tf.random.set_seed(i)\n",
        "np.random.seed(i)\n",
        "yt = np.concatenate([data['ys'], data['t']], 1) #we'll use both y and t to compute the loss\n",
        "\n",
        "\n",
        "sgd_callbacks = [\n",
        "        TerminateOnNaN(),\n",
        "        EarlyStopping(monitor='val_loss', patience=40, min_delta=0.), \n",
        "        #40 is Shi's recommendation for this dataset, but you should tune for your data \n",
        "        ReduceLROnPlateau(monitor='loss', factor=0.5, patience=5, verbose=verbose, mode='auto',\n",
        "                          min_delta=0., cooldown=0, min_lr=0),\n",
        "    ]\n",
        "#optimzier hyperparameters\n",
        "sgd_lr = 1e-5\n",
        "momentum = 0.9"
      ],
      "metadata": {
        "id": "XYrYs3yGin30"
      },
      "execution_count": 28,
      "outputs": []
    },
    {
      "cell_type": "code",
      "source": [
        "tarnet_model.compile(optimizer=SGD(learning_rate=sgd_lr, momentum=momentum, nesterov=True),\n",
        "                    loss=regression_loss,\n",
        "                    metrics=regression_loss)\n",
        "\n",
        "tarnet_model.fit(x=data['x'],y=yt,\n",
        "                callbacks=sgd_callbacks,\n",
        "                validation_split=val_split,\n",
        "                epochs=300,\n",
        "                batch_size=batch_size,\n",
        "                verbose=verbose)\n",
        "print(\"DONE!\")"
      ],
      "metadata": {
        "colab": {
          "base_uri": "https://localhost:8080/"
        },
        "id": "vG1F-yA62ARQ",
        "outputId": "99fd5672-e17a-44c6-fbc6-ab06a06703c0"
      },
      "execution_count": 29,
      "outputs": [
        {
          "output_type": "stream",
          "name": "stdout",
          "text": [
            "Epoch 1/300\n",
            "10/10 [==============================] - 1s 28ms/step - loss: 59.7337 - regression_loss: 52.5815 - val_loss: 63.2503 - val_regression_loss: 52.3897 - lr: 1.0000e-05\n",
            "Epoch 2/300\n",
            "10/10 [==============================] - 0s 7ms/step - loss: 48.1597 - regression_loss: 42.3849 - val_loss: 53.6670 - val_regression_loss: 44.0304 - lr: 1.0000e-05\n",
            "Epoch 3/300\n",
            "10/10 [==============================] - 0s 5ms/step - loss: 40.3737 - regression_loss: 34.3807 - val_loss: 46.3316 - val_regression_loss: 37.5293 - lr: 1.0000e-05\n",
            "Epoch 4/300\n",
            "10/10 [==============================] - 0s 7ms/step - loss: 34.6918 - regression_loss: 28.8290 - val_loss: 41.4426 - val_regression_loss: 33.1405 - lr: 1.0000e-05\n",
            "Epoch 5/300\n",
            "10/10 [==============================] - 0s 6ms/step - loss: 31.5004 - regression_loss: 25.4943 - val_loss: 37.4112 - val_regression_loss: 29.5132 - lr: 1.0000e-05\n",
            "Epoch 6/300\n",
            "10/10 [==============================] - 0s 6ms/step - loss: 28.7955 - regression_loss: 22.8658 - val_loss: 34.1059 - val_regression_loss: 26.5744 - lr: 1.0000e-05\n",
            "Epoch 7/300\n",
            "10/10 [==============================] - 0s 5ms/step - loss: 25.6497 - regression_loss: 20.7714 - val_loss: 31.4516 - val_regression_loss: 24.2293 - lr: 1.0000e-05\n",
            "Epoch 8/300\n",
            "10/10 [==============================] - 0s 8ms/step - loss: 25.0710 - regression_loss: 19.3139 - val_loss: 29.4440 - val_regression_loss: 22.4800 - lr: 1.0000e-05\n",
            "Epoch 9/300\n",
            "10/10 [==============================] - 0s 5ms/step - loss: 23.7899 - regression_loss: 18.1286 - val_loss: 27.9446 - val_regression_loss: 21.1478 - lr: 1.0000e-05\n",
            "Epoch 10/300\n",
            "10/10 [==============================] - 0s 5ms/step - loss: 22.9266 - regression_loss: 17.3876 - val_loss: 26.9229 - val_regression_loss: 20.2383 - lr: 1.0000e-05\n",
            "Epoch 11/300\n",
            "10/10 [==============================] - 0s 5ms/step - loss: 22.2812 - regression_loss: 16.7874 - val_loss: 26.2223 - val_regression_loss: 19.6310 - lr: 1.0000e-05\n",
            "Epoch 12/300\n",
            "10/10 [==============================] - 0s 5ms/step - loss: 21.8473 - regression_loss: 16.2804 - val_loss: 25.7342 - val_regression_loss: 19.1516 - lr: 1.0000e-05\n",
            "Epoch 13/300\n",
            "10/10 [==============================] - 0s 6ms/step - loss: 21.2931 - regression_loss: 15.9109 - val_loss: 25.3779 - val_regression_loss: 18.8200 - lr: 1.0000e-05\n",
            "Epoch 14/300\n",
            "10/10 [==============================] - 0s 5ms/step - loss: 21.2118 - regression_loss: 15.5776 - val_loss: 25.0118 - val_regression_loss: 18.4805 - lr: 1.0000e-05\n",
            "Epoch 15/300\n",
            "10/10 [==============================] - 0s 8ms/step - loss: 20.5758 - regression_loss: 15.2679 - val_loss: 24.7530 - val_regression_loss: 18.2256 - lr: 1.0000e-05\n",
            "Epoch 16/300\n",
            "10/10 [==============================] - 0s 7ms/step - loss: 20.4389 - regression_loss: 15.0069 - val_loss: 24.4847 - val_regression_loss: 17.9867 - lr: 1.0000e-05\n",
            "Epoch 17/300\n",
            "10/10 [==============================] - 0s 6ms/step - loss: 20.0824 - regression_loss: 14.7416 - val_loss: 24.2732 - val_regression_loss: 17.7672 - lr: 1.0000e-05\n",
            "Epoch 18/300\n",
            "10/10 [==============================] - 0s 6ms/step - loss: 19.7727 - regression_loss: 14.4854 - val_loss: 24.0196 - val_regression_loss: 17.5324 - lr: 1.0000e-05\n",
            "Epoch 19/300\n",
            "10/10 [==============================] - 0s 5ms/step - loss: 19.7930 - regression_loss: 14.2493 - val_loss: 23.8569 - val_regression_loss: 17.3619 - lr: 1.0000e-05\n",
            "Epoch 20/300\n",
            "10/10 [==============================] - 0s 6ms/step - loss: 19.5625 - regression_loss: 14.0579 - val_loss: 23.6714 - val_regression_loss: 17.1849 - lr: 1.0000e-05\n",
            "Epoch 21/300\n",
            "10/10 [==============================] - 0s 7ms/step - loss: 19.2260 - regression_loss: 13.8968 - val_loss: 23.5148 - val_regression_loss: 17.0371 - lr: 1.0000e-05\n",
            "Epoch 22/300\n",
            "10/10 [==============================] - 0s 7ms/step - loss: 18.9810 - regression_loss: 13.7533 - val_loss: 23.3939 - val_regression_loss: 16.9116 - lr: 1.0000e-05\n",
            "Epoch 23/300\n",
            "10/10 [==============================] - 0s 5ms/step - loss: 19.0062 - regression_loss: 13.5570 - val_loss: 23.2669 - val_regression_loss: 16.7797 - lr: 1.0000e-05\n",
            "Epoch 24/300\n",
            "10/10 [==============================] - 0s 5ms/step - loss: 18.6751 - regression_loss: 13.4190 - val_loss: 23.1792 - val_regression_loss: 16.7010 - lr: 1.0000e-05\n",
            "Epoch 25/300\n",
            "10/10 [==============================] - 0s 5ms/step - loss: 18.4100 - regression_loss: 13.3081 - val_loss: 23.0283 - val_regression_loss: 16.5755 - lr: 1.0000e-05\n",
            "Epoch 26/300\n",
            "10/10 [==============================] - 0s 7ms/step - loss: 18.6083 - regression_loss: 13.1799 - val_loss: 22.9354 - val_regression_loss: 16.4655 - lr: 1.0000e-05\n",
            "Epoch 27/300\n",
            "10/10 [==============================] - 0s 5ms/step - loss: 18.3622 - regression_loss: 13.0725 - val_loss: 22.8039 - val_regression_loss: 16.3442 - lr: 1.0000e-05\n",
            "Epoch 28/300\n",
            "10/10 [==============================] - 0s 5ms/step - loss: 18.4866 - regression_loss: 13.0328 - val_loss: 22.7603 - val_regression_loss: 16.3012 - lr: 1.0000e-05\n",
            "Epoch 29/300\n",
            "10/10 [==============================] - 0s 5ms/step - loss: 18.3412 - regression_loss: 12.9203 - val_loss: 22.7073 - val_regression_loss: 16.2550 - lr: 1.0000e-05\n",
            "Epoch 30/300\n",
            "10/10 [==============================] - 0s 5ms/step - loss: 18.2910 - regression_loss: 12.8384 - val_loss: 22.5995 - val_regression_loss: 16.1492 - lr: 1.0000e-05\n",
            "Epoch 31/300\n",
            "10/10 [==============================] - 0s 6ms/step - loss: 18.1346 - regression_loss: 12.7634 - val_loss: 22.5000 - val_regression_loss: 16.0554 - lr: 1.0000e-05\n",
            "Epoch 32/300\n",
            "10/10 [==============================] - 0s 6ms/step - loss: 18.0272 - regression_loss: 12.6946 - val_loss: 22.5444 - val_regression_loss: 16.0940 - lr: 1.0000e-05\n",
            "Epoch 33/300\n",
            "10/10 [==============================] - 0s 9ms/step - loss: 18.0929 - regression_loss: 12.6786 - val_loss: 22.4397 - val_regression_loss: 15.9915 - lr: 1.0000e-05\n",
            "Epoch 34/300\n",
            "10/10 [==============================] - 0s 5ms/step - loss: 17.8194 - regression_loss: 12.5657 - val_loss: 22.4244 - val_regression_loss: 15.9717 - lr: 1.0000e-05\n",
            "Epoch 35/300\n",
            "10/10 [==============================] - 0s 7ms/step - loss: 17.8135 - regression_loss: 12.5098 - val_loss: 22.3296 - val_regression_loss: 15.8893 - lr: 1.0000e-05\n",
            "Epoch 36/300\n",
            "10/10 [==============================] - 0s 6ms/step - loss: 17.7549 - regression_loss: 12.5120 - val_loss: 22.2656 - val_regression_loss: 15.8165 - lr: 1.0000e-05\n",
            "Epoch 37/300\n",
            "10/10 [==============================] - 0s 7ms/step - loss: 17.7197 - regression_loss: 12.4138 - val_loss: 22.2609 - val_regression_loss: 15.8085 - lr: 1.0000e-05\n",
            "Epoch 38/300\n",
            "10/10 [==============================] - 0s 8ms/step - loss: 17.7436 - regression_loss: 12.3911 - val_loss: 22.2102 - val_regression_loss: 15.7745 - lr: 1.0000e-05\n",
            "Epoch 39/300\n",
            "10/10 [==============================] - 0s 6ms/step - loss: 17.7076 - regression_loss: 12.3418 - val_loss: 22.1527 - val_regression_loss: 15.7159 - lr: 1.0000e-05\n",
            "Epoch 40/300\n",
            "10/10 [==============================] - 0s 5ms/step - loss: 17.6886 - regression_loss: 12.3595 - val_loss: 22.1328 - val_regression_loss: 15.6956 - lr: 1.0000e-05\n",
            "Epoch 41/300\n",
            "10/10 [==============================] - 0s 7ms/step - loss: 17.7156 - regression_loss: 12.2935 - val_loss: 22.0740 - val_regression_loss: 15.6370 - lr: 1.0000e-05\n",
            "Epoch 42/300\n",
            "10/10 [==============================] - 0s 5ms/step - loss: 17.5096 - regression_loss: 12.2534 - val_loss: 22.0506 - val_regression_loss: 15.6210 - lr: 1.0000e-05\n",
            "Epoch 43/300\n",
            "10/10 [==============================] - 0s 6ms/step - loss: 17.3682 - regression_loss: 12.2156 - val_loss: 21.9830 - val_regression_loss: 15.5544 - lr: 1.0000e-05\n",
            "Epoch 44/300\n",
            "10/10 [==============================] - 0s 5ms/step - loss: 17.4583 - regression_loss: 12.1971 - val_loss: 21.9296 - val_regression_loss: 15.5085 - lr: 1.0000e-05\n",
            "Epoch 45/300\n",
            "10/10 [==============================] - 0s 5ms/step - loss: 17.3007 - regression_loss: 12.1270 - val_loss: 21.9082 - val_regression_loss: 15.4941 - lr: 1.0000e-05\n",
            "Epoch 46/300\n",
            "10/10 [==============================] - 0s 6ms/step - loss: 17.5107 - regression_loss: 12.1648 - val_loss: 21.8971 - val_regression_loss: 15.4907 - lr: 1.0000e-05\n",
            "Epoch 47/300\n",
            "10/10 [==============================] - 0s 6ms/step - loss: 17.2931 - regression_loss: 12.0691 - val_loss: 21.8597 - val_regression_loss: 15.4533 - lr: 1.0000e-05\n",
            "Epoch 48/300\n",
            "10/10 [==============================] - 0s 6ms/step - loss: 17.3128 - regression_loss: 12.0575 - val_loss: 21.8009 - val_regression_loss: 15.3908 - lr: 1.0000e-05\n",
            "Epoch 49/300\n",
            "10/10 [==============================] - 0s 5ms/step - loss: 17.3898 - regression_loss: 12.0031 - val_loss: 21.7046 - val_regression_loss: 15.3120 - lr: 1.0000e-05\n",
            "Epoch 50/300\n",
            "10/10 [==============================] - 0s 7ms/step - loss: 17.4366 - regression_loss: 12.0150 - val_loss: 21.6867 - val_regression_loss: 15.2942 - lr: 1.0000e-05\n",
            "Epoch 51/300\n",
            "10/10 [==============================] - 0s 6ms/step - loss: 17.4272 - regression_loss: 12.0059 - val_loss: 21.6740 - val_regression_loss: 15.2852 - lr: 1.0000e-05\n",
            "Epoch 52/300\n",
            "10/10 [==============================] - 0s 5ms/step - loss: 17.1163 - regression_loss: 11.9244 - val_loss: 21.5915 - val_regression_loss: 15.2155 - lr: 1.0000e-05\n",
            "Epoch 53/300\n",
            "10/10 [==============================] - 0s 6ms/step - loss: 17.1962 - regression_loss: 11.9375 - val_loss: 21.5202 - val_regression_loss: 15.1590 - lr: 1.0000e-05\n",
            "Epoch 54/300\n",
            "10/10 [==============================] - 0s 5ms/step - loss: 17.1924 - regression_loss: 11.9169 - val_loss: 21.4950 - val_regression_loss: 15.1352 - lr: 1.0000e-05\n",
            "Epoch 55/300\n",
            "10/10 [==============================] - 0s 5ms/step - loss: 17.1986 - regression_loss: 11.8231 - val_loss: 21.4833 - val_regression_loss: 15.1153 - lr: 1.0000e-05\n",
            "Epoch 56/300\n",
            "10/10 [==============================] - 0s 6ms/step - loss: 17.0933 - regression_loss: 11.8587 - val_loss: 21.4443 - val_regression_loss: 15.0904 - lr: 1.0000e-05\n",
            "Epoch 57/300\n",
            "10/10 [==============================] - 0s 6ms/step - loss: 17.1754 - regression_loss: 11.8319 - val_loss: 21.4484 - val_regression_loss: 15.0940 - lr: 1.0000e-05\n",
            "Epoch 58/300\n",
            "10/10 [==============================] - 0s 5ms/step - loss: 17.0330 - regression_loss: 11.8344 - val_loss: 21.3866 - val_regression_loss: 15.0355 - lr: 1.0000e-05\n",
            "Epoch 59/300\n",
            "10/10 [==============================] - 0s 7ms/step - loss: 16.9105 - regression_loss: 11.7929 - val_loss: 21.3234 - val_regression_loss: 14.9754 - lr: 1.0000e-05\n",
            "Epoch 60/300\n",
            "10/10 [==============================] - 0s 7ms/step - loss: 17.1359 - regression_loss: 11.7190 - val_loss: 21.2701 - val_regression_loss: 14.9313 - lr: 1.0000e-05\n",
            "Epoch 61/300\n",
            "10/10 [==============================] - 0s 5ms/step - loss: 16.8789 - regression_loss: 11.6988 - val_loss: 21.2410 - val_regression_loss: 14.9076 - lr: 1.0000e-05\n",
            "Epoch 62/300\n",
            "10/10 [==============================] - 0s 6ms/step - loss: 16.9437 - regression_loss: 11.6932 - val_loss: 21.2277 - val_regression_loss: 14.8933 - lr: 1.0000e-05\n",
            "Epoch 63/300\n",
            "10/10 [==============================] - 0s 5ms/step - loss: 17.0983 - regression_loss: 11.7360 - val_loss: 21.1675 - val_regression_loss: 14.8495 - lr: 1.0000e-05\n",
            "Epoch 64/300\n",
            "10/10 [==============================] - 0s 6ms/step - loss: 16.8281 - regression_loss: 11.6368 - val_loss: 21.1370 - val_regression_loss: 14.8167 - lr: 1.0000e-05\n",
            "Epoch 65/300\n",
            "10/10 [==============================] - 0s 7ms/step - loss: 16.8041 - regression_loss: 11.6539 - val_loss: 21.0882 - val_regression_loss: 14.7854 - lr: 1.0000e-05\n",
            "Epoch 66/300\n",
            "10/10 [==============================] - 0s 8ms/step - loss: 16.7531 - regression_loss: 11.5975 - val_loss: 20.9907 - val_regression_loss: 14.6948 - lr: 1.0000e-05\n",
            "Epoch 67/300\n",
            "10/10 [==============================] - 0s 5ms/step - loss: 16.9139 - regression_loss: 11.5854 - val_loss: 21.0239 - val_regression_loss: 14.7237 - lr: 1.0000e-05\n",
            "Epoch 68/300\n",
            "10/10 [==============================] - 0s 5ms/step - loss: 16.7134 - regression_loss: 11.5695 - val_loss: 21.0070 - val_regression_loss: 14.7086 - lr: 1.0000e-05\n",
            "Epoch 69/300\n",
            "10/10 [==============================] - 0s 7ms/step - loss: 16.7907 - regression_loss: 11.5407 - val_loss: 20.9358 - val_regression_loss: 14.6482 - lr: 1.0000e-05\n",
            "Epoch 70/300\n",
            "10/10 [==============================] - 0s 5ms/step - loss: 16.7752 - regression_loss: 11.5522 - val_loss: 20.9118 - val_regression_loss: 14.6300 - lr: 1.0000e-05\n",
            "Epoch 71/300\n",
            "10/10 [==============================] - 0s 5ms/step - loss: 16.7457 - regression_loss: 11.4693 - val_loss: 20.8390 - val_regression_loss: 14.5648 - lr: 1.0000e-05\n",
            "Epoch 72/300\n",
            "10/10 [==============================] - 0s 5ms/step - loss: 16.6251 - regression_loss: 11.4722 - val_loss: 20.7930 - val_regression_loss: 14.5196 - lr: 1.0000e-05\n",
            "Epoch 73/300\n",
            "10/10 [==============================] - 0s 5ms/step - loss: 16.6433 - regression_loss: 11.4360 - val_loss: 20.7375 - val_regression_loss: 14.4683 - lr: 1.0000e-05\n",
            "Epoch 74/300\n",
            "10/10 [==============================] - 0s 5ms/step - loss: 16.6807 - regression_loss: 11.4101 - val_loss: 20.7407 - val_regression_loss: 14.4804 - lr: 1.0000e-05\n",
            "Epoch 75/300\n",
            "10/10 [==============================] - 0s 8ms/step - loss: 16.6472 - regression_loss: 11.4371 - val_loss: 20.6923 - val_regression_loss: 14.4368 - lr: 1.0000e-05\n",
            "Epoch 76/300\n",
            "10/10 [==============================] - 0s 5ms/step - loss: 16.4921 - regression_loss: 11.3712 - val_loss: 20.6806 - val_regression_loss: 14.4279 - lr: 1.0000e-05\n",
            "Epoch 77/300\n",
            "10/10 [==============================] - 0s 5ms/step - loss: 16.7253 - regression_loss: 11.3702 - val_loss: 20.6739 - val_regression_loss: 14.4176 - lr: 1.0000e-05\n",
            "Epoch 78/300\n",
            "10/10 [==============================] - 0s 5ms/step - loss: 16.4579 - regression_loss: 11.3257 - val_loss: 20.6256 - val_regression_loss: 14.3776 - lr: 1.0000e-05\n",
            "Epoch 79/300\n",
            "10/10 [==============================] - 0s 5ms/step - loss: 16.6355 - regression_loss: 11.3384 - val_loss: 20.5843 - val_regression_loss: 14.3501 - lr: 1.0000e-05\n",
            "Epoch 80/300\n",
            "10/10 [==============================] - 0s 5ms/step - loss: 16.3758 - regression_loss: 11.2852 - val_loss: 20.5462 - val_regression_loss: 14.3144 - lr: 1.0000e-05\n",
            "Epoch 81/300\n",
            "10/10 [==============================] - 0s 5ms/step - loss: 16.5223 - regression_loss: 11.2580 - val_loss: 20.4498 - val_regression_loss: 14.2260 - lr: 1.0000e-05\n",
            "Epoch 82/300\n",
            "10/10 [==============================] - 0s 5ms/step - loss: 16.2621 - regression_loss: 11.2530 - val_loss: 20.4472 - val_regression_loss: 14.2346 - lr: 1.0000e-05\n",
            "Epoch 83/300\n",
            "10/10 [==============================] - 0s 5ms/step - loss: 16.5090 - regression_loss: 11.2208 - val_loss: 20.3977 - val_regression_loss: 14.1864 - lr: 1.0000e-05\n",
            "Epoch 84/300\n",
            "10/10 [==============================] - 0s 5ms/step - loss: 16.4121 - regression_loss: 11.2089 - val_loss: 20.3899 - val_regression_loss: 14.1847 - lr: 1.0000e-05\n",
            "Epoch 85/300\n",
            "10/10 [==============================] - 0s 7ms/step - loss: 16.4714 - regression_loss: 11.2217 - val_loss: 20.3518 - val_regression_loss: 14.1518 - lr: 1.0000e-05\n",
            "Epoch 86/300\n",
            "10/10 [==============================] - 0s 6ms/step - loss: 16.4996 - regression_loss: 11.1620 - val_loss: 20.3146 - val_regression_loss: 14.1191 - lr: 1.0000e-05\n",
            "Epoch 87/300\n",
            " 1/10 [==>...........................] - ETA: 0s - loss: 19.1205 - regression_loss: 14.4088\n",
            "Epoch 87: ReduceLROnPlateau reducing learning rate to 4.999999873689376e-06.\n",
            "10/10 [==============================] - 0s 5ms/step - loss: 16.4637 - regression_loss: 11.1904 - val_loss: 20.2830 - val_regression_loss: 14.0880 - lr: 1.0000e-05\n",
            "Epoch 88/300\n",
            "10/10 [==============================] - 0s 5ms/step - loss: 16.4360 - regression_loss: 11.1077 - val_loss: 20.2083 - val_regression_loss: 14.0198 - lr: 5.0000e-06\n",
            "Epoch 89/300\n",
            "10/10 [==============================] - 0s 6ms/step - loss: 16.3398 - regression_loss: 11.0943 - val_loss: 20.1859 - val_regression_loss: 14.0032 - lr: 5.0000e-06\n",
            "Epoch 90/300\n",
            "10/10 [==============================] - 0s 5ms/step - loss: 16.2073 - regression_loss: 11.0975 - val_loss: 20.1838 - val_regression_loss: 14.0018 - lr: 5.0000e-06\n",
            "Epoch 91/300\n",
            "10/10 [==============================] - 0s 5ms/step - loss: 16.3213 - regression_loss: 11.0775 - val_loss: 20.1685 - val_regression_loss: 13.9891 - lr: 5.0000e-06\n",
            "Epoch 92/300\n",
            "10/10 [==============================] - 0s 5ms/step - loss: 16.2065 - regression_loss: 11.0695 - val_loss: 20.1545 - val_regression_loss: 13.9794 - lr: 5.0000e-06\n",
            "Epoch 93/300\n",
            "10/10 [==============================] - 0s 7ms/step - loss: 16.2691 - regression_loss: 11.0414 - val_loss: 20.1530 - val_regression_loss: 13.9800 - lr: 5.0000e-06\n",
            "Epoch 94/300\n",
            "10/10 [==============================] - 0s 6ms/step - loss: 16.2507 - regression_loss: 11.0493 - val_loss: 20.1499 - val_regression_loss: 13.9758 - lr: 5.0000e-06\n",
            "Epoch 95/300\n",
            "10/10 [==============================] - 0s 6ms/step - loss: 16.3407 - regression_loss: 11.0307 - val_loss: 20.1382 - val_regression_loss: 13.9668 - lr: 5.0000e-06\n",
            "Epoch 96/300\n",
            "10/10 [==============================] - 0s 5ms/step - loss: 16.1699 - regression_loss: 11.0247 - val_loss: 20.0875 - val_regression_loss: 13.9192 - lr: 5.0000e-06\n",
            "Epoch 97/300\n",
            "10/10 [==============================] - 0s 5ms/step - loss: 16.2776 - regression_loss: 11.0304 - val_loss: 20.0942 - val_regression_loss: 13.9297 - lr: 5.0000e-06\n",
            "Epoch 98/300\n",
            "10/10 [==============================] - 0s 6ms/step - loss: 16.2155 - regression_loss: 11.0213 - val_loss: 20.0404 - val_regression_loss: 13.8824 - lr: 5.0000e-06\n",
            "Epoch 99/300\n",
            "10/10 [==============================] - 0s 5ms/step - loss: 16.2823 - regression_loss: 11.0336 - val_loss: 20.0363 - val_regression_loss: 13.8759 - lr: 5.0000e-06\n",
            "Epoch 100/300\n",
            "10/10 [==============================] - 0s 6ms/step - loss: 16.2690 - regression_loss: 10.9992 - val_loss: 20.0545 - val_regression_loss: 13.8990 - lr: 5.0000e-06\n",
            "Epoch 101/300\n",
            " 1/10 [==>...........................] - ETA: 0s - loss: 17.0797 - regression_loss: 12.3691\n",
            "Epoch 101: ReduceLROnPlateau reducing learning rate to 2.499999936844688e-06.\n",
            "10/10 [==============================] - 0s 8ms/step - loss: 16.1836 - regression_loss: 10.9975 - val_loss: 20.0196 - val_regression_loss: 13.8676 - lr: 5.0000e-06\n",
            "Epoch 102/300\n",
            "10/10 [==============================] - 0s 8ms/step - loss: 16.2064 - regression_loss: 10.9510 - val_loss: 20.0093 - val_regression_loss: 13.8567 - lr: 2.5000e-06\n",
            "Epoch 103/300\n",
            "10/10 [==============================] - 0s 5ms/step - loss: 16.1483 - regression_loss: 10.9501 - val_loss: 19.9957 - val_regression_loss: 13.8439 - lr: 2.5000e-06\n",
            "Epoch 104/300\n",
            "10/10 [==============================] - 0s 7ms/step - loss: 16.2105 - regression_loss: 10.9413 - val_loss: 19.9770 - val_regression_loss: 13.8277 - lr: 2.5000e-06\n",
            "Epoch 105/300\n",
            "10/10 [==============================] - 0s 6ms/step - loss: 16.1958 - regression_loss: 10.9363 - val_loss: 19.9729 - val_regression_loss: 13.8238 - lr: 2.5000e-06\n",
            "Epoch 106/300\n",
            "10/10 [==============================] - 0s 5ms/step - loss: 15.9263 - regression_loss: 10.9350 - val_loss: 19.9657 - val_regression_loss: 13.8179 - lr: 2.5000e-06\n",
            "Epoch 107/300\n",
            "10/10 [==============================] - 0s 5ms/step - loss: 16.1319 - regression_loss: 10.9329 - val_loss: 19.9522 - val_regression_loss: 13.8061 - lr: 2.5000e-06\n",
            "Epoch 108/300\n",
            "10/10 [==============================] - 0s 5ms/step - loss: 16.1245 - regression_loss: 10.9539 - val_loss: 19.9432 - val_regression_loss: 13.7966 - lr: 2.5000e-06\n",
            "Epoch 109/300\n",
            "10/10 [==============================] - 0s 7ms/step - loss: 16.2088 - regression_loss: 10.9248 - val_loss: 19.9357 - val_regression_loss: 13.7934 - lr: 2.5000e-06\n",
            "Epoch 110/300\n",
            "10/10 [==============================] - 0s 5ms/step - loss: 16.2039 - regression_loss: 10.9158 - val_loss: 19.9217 - val_regression_loss: 13.7800 - lr: 2.5000e-06\n",
            "Epoch 111/300\n",
            "10/10 [==============================] - 0s 5ms/step - loss: 15.8854 - regression_loss: 10.9176 - val_loss: 19.9110 - val_regression_loss: 13.7711 - lr: 2.5000e-06\n",
            "Epoch 112/300\n",
            "10/10 [==============================] - 0s 5ms/step - loss: 15.9480 - regression_loss: 10.9157 - val_loss: 19.9202 - val_regression_loss: 13.7807 - lr: 2.5000e-06\n",
            "Epoch 113/300\n",
            "10/10 [==============================] - 0s 6ms/step - loss: 15.9475 - regression_loss: 10.9037 - val_loss: 19.9143 - val_regression_loss: 13.7757 - lr: 2.5000e-06\n",
            "Epoch 114/300\n",
            "10/10 [==============================] - 0s 5ms/step - loss: 16.0965 - regression_loss: 10.8982 - val_loss: 19.8905 - val_regression_loss: 13.7536 - lr: 2.5000e-06\n",
            "Epoch 115/300\n",
            "10/10 [==============================] - 0s 5ms/step - loss: 15.9511 - regression_loss: 10.8993 - val_loss: 19.8856 - val_regression_loss: 13.7485 - lr: 2.5000e-06\n",
            "Epoch 116/300\n",
            " 1/10 [==>...........................] - ETA: 0s - loss: 14.3379 - regression_loss: 9.6280\n",
            "Epoch 116: ReduceLROnPlateau reducing learning rate to 1.249999968422344e-06.\n",
            "10/10 [==============================] - 0s 5ms/step - loss: 15.9935 - regression_loss: 10.8892 - val_loss: 19.8803 - val_regression_loss: 13.7451 - lr: 2.5000e-06\n",
            "Epoch 117/300\n",
            "10/10 [==============================] - 0s 5ms/step - loss: 16.1476 - regression_loss: 10.8833 - val_loss: 19.8710 - val_regression_loss: 13.7381 - lr: 1.2500e-06\n",
            "Epoch 118/300\n",
            "10/10 [==============================] - 0s 7ms/step - loss: 16.2170 - regression_loss: 10.8759 - val_loss: 19.8700 - val_regression_loss: 13.7367 - lr: 1.2500e-06\n",
            "Epoch 119/300\n",
            "10/10 [==============================] - 0s 5ms/step - loss: 15.9994 - regression_loss: 10.8760 - val_loss: 19.8636 - val_regression_loss: 13.7305 - lr: 1.2500e-06\n",
            "Epoch 120/300\n",
            "10/10 [==============================] - 0s 5ms/step - loss: 16.1108 - regression_loss: 10.8721 - val_loss: 19.8580 - val_regression_loss: 13.7252 - lr: 1.2500e-06\n",
            "Epoch 121/300\n",
            " 1/10 [==>...........................] - ETA: 0s - loss: 19.0841 - regression_loss: 14.3743\n",
            "Epoch 121: ReduceLROnPlateau reducing learning rate to 6.24999984211172e-07.\n",
            "10/10 [==============================] - 0s 5ms/step - loss: 16.1650 - regression_loss: 10.8684 - val_loss: 19.8579 - val_regression_loss: 13.7252 - lr: 1.2500e-06\n",
            "Epoch 122/300\n",
            "10/10 [==============================] - 0s 5ms/step - loss: 16.1158 - regression_loss: 10.8650 - val_loss: 19.8576 - val_regression_loss: 13.7258 - lr: 6.2500e-07\n",
            "Epoch 123/300\n",
            "10/10 [==============================] - 0s 7ms/step - loss: 16.0678 - regression_loss: 10.8621 - val_loss: 19.8526 - val_regression_loss: 13.7217 - lr: 6.2500e-07\n",
            "Epoch 124/300\n",
            "10/10 [==============================] - 0s 5ms/step - loss: 16.1082 - regression_loss: 10.8607 - val_loss: 19.8513 - val_regression_loss: 13.7207 - lr: 6.2500e-07\n",
            "Epoch 125/300\n",
            "10/10 [==============================] - 0s 5ms/step - loss: 16.1702 - regression_loss: 10.8597 - val_loss: 19.8480 - val_regression_loss: 13.7177 - lr: 6.2500e-07\n",
            "Epoch 126/300\n",
            " 1/10 [==>...........................] - ETA: 0s - loss: 16.8051 - regression_loss: 12.0954\n",
            "Epoch 126: ReduceLROnPlateau reducing learning rate to 3.12499992105586e-07.\n",
            "10/10 [==============================] - 0s 5ms/step - loss: 16.1026 - regression_loss: 10.8598 - val_loss: 19.8470 - val_regression_loss: 13.7169 - lr: 6.2500e-07\n",
            "Epoch 127/300\n",
            "10/10 [==============================] - 0s 6ms/step - loss: 16.0985 - regression_loss: 10.8569 - val_loss: 19.8431 - val_regression_loss: 13.7135 - lr: 3.1250e-07\n",
            "Epoch 128/300\n",
            "10/10 [==============================] - 0s 7ms/step - loss: 16.1164 - regression_loss: 10.8563 - val_loss: 19.8400 - val_regression_loss: 13.7107 - lr: 3.1250e-07\n",
            "Epoch 129/300\n",
            "10/10 [==============================] - 0s 5ms/step - loss: 15.9933 - regression_loss: 10.8565 - val_loss: 19.8399 - val_regression_loss: 13.7108 - lr: 3.1250e-07\n",
            "Epoch 130/300\n",
            "10/10 [==============================] - 0s 5ms/step - loss: 16.1528 - regression_loss: 10.8545 - val_loss: 19.8387 - val_regression_loss: 13.7096 - lr: 3.1250e-07\n",
            "Epoch 131/300\n",
            " 1/10 [==>...........................] - ETA: 0s - loss: 15.0191 - regression_loss: 10.3094\n",
            "Epoch 131: ReduceLROnPlateau reducing learning rate to 1.56249996052793e-07.\n",
            "10/10 [==============================] - 0s 5ms/step - loss: 16.0124 - regression_loss: 10.8544 - val_loss: 19.8366 - val_regression_loss: 13.7075 - lr: 3.1250e-07\n",
            "Epoch 132/300\n",
            "10/10 [==============================] - 0s 5ms/step - loss: 16.1147 - regression_loss: 10.8531 - val_loss: 19.8361 - val_regression_loss: 13.7072 - lr: 1.5625e-07\n",
            "Epoch 133/300\n",
            "10/10 [==============================] - 0s 7ms/step - loss: 16.0180 - regression_loss: 10.8527 - val_loss: 19.8355 - val_regression_loss: 13.7068 - lr: 1.5625e-07\n",
            "Epoch 134/300\n",
            "10/10 [==============================] - 0s 5ms/step - loss: 15.9716 - regression_loss: 10.8525 - val_loss: 19.8360 - val_regression_loss: 13.7071 - lr: 1.5625e-07\n",
            "Epoch 135/300\n",
            "10/10 [==============================] - 0s 5ms/step - loss: 16.1053 - regression_loss: 10.8523 - val_loss: 19.8360 - val_regression_loss: 13.7073 - lr: 1.5625e-07\n",
            "Epoch 136/300\n",
            " 1/10 [==>...........................] - ETA: 0s - loss: 15.0424 - regression_loss: 10.3327\n",
            "Epoch 136: ReduceLROnPlateau reducing learning rate to 7.81249980263965e-08.\n",
            "10/10 [==============================] - 0s 6ms/step - loss: 16.0150 - regression_loss: 10.8514 - val_loss: 19.8353 - val_regression_loss: 13.7067 - lr: 1.5625e-07\n",
            "Epoch 137/300\n",
            "10/10 [==============================] - 0s 5ms/step - loss: 16.0910 - regression_loss: 10.8512 - val_loss: 19.8346 - val_regression_loss: 13.7060 - lr: 7.8125e-08\n",
            "Epoch 138/300\n",
            "10/10 [==============================] - 0s 5ms/step - loss: 16.0257 - regression_loss: 10.8511 - val_loss: 19.8336 - val_regression_loss: 13.7051 - lr: 7.8125e-08\n",
            "Epoch 139/300\n",
            "10/10 [==============================] - 0s 5ms/step - loss: 16.1113 - regression_loss: 10.8508 - val_loss: 19.8338 - val_regression_loss: 13.7054 - lr: 7.8125e-08\n",
            "Epoch 140/300\n",
            "10/10 [==============================] - 0s 5ms/step - loss: 15.8714 - regression_loss: 10.8505 - val_loss: 19.8335 - val_regression_loss: 13.7051 - lr: 7.8125e-08\n",
            "Epoch 141/300\n",
            "10/10 [==============================] - 0s 7ms/step - loss: 15.9783 - regression_loss: 10.8505 - val_loss: 19.8335 - val_regression_loss: 13.7051 - lr: 7.8125e-08\n",
            "Epoch 142/300\n",
            "10/10 [==============================] - 0s 5ms/step - loss: 15.9220 - regression_loss: 10.8502 - val_loss: 19.8330 - val_regression_loss: 13.7047 - lr: 7.8125e-08\n",
            "Epoch 143/300\n",
            "10/10 [==============================] - 0s 5ms/step - loss: 16.2281 - regression_loss: 10.8506 - val_loss: 19.8323 - val_regression_loss: 13.7041 - lr: 7.8125e-08\n",
            "Epoch 144/300\n",
            "10/10 [==============================] - 0s 7ms/step - loss: 15.8597 - regression_loss: 10.8499 - val_loss: 19.8323 - val_regression_loss: 13.7041 - lr: 7.8125e-08\n",
            "Epoch 145/300\n",
            "10/10 [==============================] - 0s 5ms/step - loss: 16.0605 - regression_loss: 10.8503 - val_loss: 19.8318 - val_regression_loss: 13.7036 - lr: 7.8125e-08\n",
            "Epoch 146/300\n",
            "10/10 [==============================] - 0s 5ms/step - loss: 16.0654 - regression_loss: 10.8497 - val_loss: 19.8317 - val_regression_loss: 13.7035 - lr: 7.8125e-08\n",
            "Epoch 147/300\n",
            "10/10 [==============================] - 0s 5ms/step - loss: 15.9966 - regression_loss: 10.8497 - val_loss: 19.8316 - val_regression_loss: 13.7034 - lr: 7.8125e-08\n",
            "Epoch 148/300\n",
            "10/10 [==============================] - 0s 5ms/step - loss: 15.9505 - regression_loss: 10.8496 - val_loss: 19.8316 - val_regression_loss: 13.7035 - lr: 7.8125e-08\n",
            "Epoch 149/300\n",
            "10/10 [==============================] - 0s 5ms/step - loss: 15.8382 - regression_loss: 10.8493 - val_loss: 19.8315 - val_regression_loss: 13.7033 - lr: 7.8125e-08\n",
            "Epoch 150/300\n",
            "10/10 [==============================] - 0s 5ms/step - loss: 16.0248 - regression_loss: 10.8494 - val_loss: 19.8316 - val_regression_loss: 13.7035 - lr: 7.8125e-08\n",
            "Epoch 151/300\n",
            "10/10 [==============================] - 0s 7ms/step - loss: 16.1207 - regression_loss: 10.8491 - val_loss: 19.8305 - val_regression_loss: 13.7025 - lr: 7.8125e-08\n",
            "Epoch 152/300\n",
            "10/10 [==============================] - 0s 7ms/step - loss: 15.9646 - regression_loss: 10.8488 - val_loss: 19.8304 - val_regression_loss: 13.7024 - lr: 7.8125e-08\n",
            "Epoch 153/300\n",
            "10/10 [==============================] - 0s 6ms/step - loss: 15.8976 - regression_loss: 10.8486 - val_loss: 19.8301 - val_regression_loss: 13.7022 - lr: 7.8125e-08\n",
            "Epoch 154/300\n",
            " 1/10 [==>...........................] - ETA: 0s - loss: 18.1813 - regression_loss: 13.4717\n",
            "Epoch 154: ReduceLROnPlateau reducing learning rate to 3.906249901319825e-08.\n",
            "10/10 [==============================] - 0s 5ms/step - loss: 16.1392 - regression_loss: 10.8485 - val_loss: 19.8300 - val_regression_loss: 13.7021 - lr: 7.8125e-08\n",
            "Epoch 155/300\n",
            "10/10 [==============================] - 0s 6ms/step - loss: 16.0752 - regression_loss: 10.8483 - val_loss: 19.8300 - val_regression_loss: 13.7020 - lr: 3.9062e-08\n",
            "Epoch 156/300\n",
            "10/10 [==============================] - 0s 7ms/step - loss: 15.8643 - regression_loss: 10.8483 - val_loss: 19.8296 - val_regression_loss: 13.7017 - lr: 3.9062e-08\n",
            "Epoch 157/300\n",
            "10/10 [==============================] - 0s 5ms/step - loss: 16.0649 - regression_loss: 10.8482 - val_loss: 19.8293 - val_regression_loss: 13.7015 - lr: 3.9062e-08\n",
            "Epoch 158/300\n",
            "10/10 [==============================] - 0s 6ms/step - loss: 16.0747 - regression_loss: 10.8482 - val_loss: 19.8292 - val_regression_loss: 13.7013 - lr: 3.9062e-08\n",
            "Epoch 159/300\n",
            " 1/10 [==>...........................] - ETA: 0s - loss: 13.3558 - regression_loss: 8.6461\n",
            "Epoch 159: ReduceLROnPlateau reducing learning rate to 1.9531249506599124e-08.\n",
            "10/10 [==============================] - 0s 6ms/step - loss: 15.9778 - regression_loss: 10.8481 - val_loss: 19.8290 - val_regression_loss: 13.7012 - lr: 3.9062e-08\n",
            "Epoch 160/300\n",
            "10/10 [==============================] - 0s 6ms/step - loss: 16.1231 - regression_loss: 10.8478 - val_loss: 19.8289 - val_regression_loss: 13.7011 - lr: 1.9531e-08\n",
            "Epoch 161/300\n",
            "10/10 [==============================] - 0s 5ms/step - loss: 15.9594 - regression_loss: 10.8478 - val_loss: 19.8289 - val_regression_loss: 13.7011 - lr: 1.9531e-08\n",
            "Epoch 162/300\n",
            "10/10 [==============================] - 0s 5ms/step - loss: 16.1012 - regression_loss: 10.8478 - val_loss: 19.8289 - val_regression_loss: 13.7011 - lr: 1.9531e-08\n",
            "Epoch 163/300\n",
            "10/10 [==============================] - 0s 5ms/step - loss: 16.1177 - regression_loss: 10.8477 - val_loss: 19.8288 - val_regression_loss: 13.7010 - lr: 1.9531e-08\n",
            "Epoch 164/300\n",
            " 1/10 [==>...........................] - ETA: 0s - loss: 15.3527 - regression_loss: 10.6430\n",
            "Epoch 164: ReduceLROnPlateau reducing learning rate to 9.765624753299562e-09.\n",
            "10/10 [==============================] - 0s 7ms/step - loss: 15.9265 - regression_loss: 10.8477 - val_loss: 19.8287 - val_regression_loss: 13.7009 - lr: 1.9531e-08\n",
            "Epoch 165/300\n",
            "10/10 [==============================] - 0s 6ms/step - loss: 16.0532 - regression_loss: 10.8476 - val_loss: 19.8287 - val_regression_loss: 13.7009 - lr: 9.7656e-09\n",
            "Epoch 166/300\n",
            "10/10 [==============================] - 0s 6ms/step - loss: 16.0922 - regression_loss: 10.8476 - val_loss: 19.8287 - val_regression_loss: 13.7009 - lr: 9.7656e-09\n",
            "Epoch 167/300\n",
            "10/10 [==============================] - 0s 5ms/step - loss: 16.1058 - regression_loss: 10.8476 - val_loss: 19.8286 - val_regression_loss: 13.7009 - lr: 9.7656e-09\n",
            "Epoch 168/300\n",
            "10/10 [==============================] - 0s 6ms/step - loss: 16.1466 - regression_loss: 10.8476 - val_loss: 19.8286 - val_regression_loss: 13.7008 - lr: 9.7656e-09\n",
            "Epoch 169/300\n",
            " 1/10 [==>...........................] - ETA: 0s - loss: 13.6853 - regression_loss: 8.9756\n",
            "Epoch 169: ReduceLROnPlateau reducing learning rate to 4.882812376649781e-09.\n",
            "10/10 [==============================] - 0s 7ms/step - loss: 16.0179 - regression_loss: 10.8475 - val_loss: 19.8286 - val_regression_loss: 13.7008 - lr: 9.7656e-09\n",
            "Epoch 170/300\n",
            "10/10 [==============================] - 0s 6ms/step - loss: 16.0775 - regression_loss: 10.8475 - val_loss: 19.8286 - val_regression_loss: 13.7008 - lr: 4.8828e-09\n",
            "Epoch 171/300\n",
            "10/10 [==============================] - 0s 6ms/step - loss: 15.9399 - regression_loss: 10.8475 - val_loss: 19.8285 - val_regression_loss: 13.7008 - lr: 4.8828e-09\n",
            "Epoch 172/300\n",
            "10/10 [==============================] - 0s 7ms/step - loss: 15.9638 - regression_loss: 10.8475 - val_loss: 19.8285 - val_regression_loss: 13.7008 - lr: 4.8828e-09\n",
            "Epoch 173/300\n",
            "10/10 [==============================] - 0s 5ms/step - loss: 16.0311 - regression_loss: 10.8475 - val_loss: 19.8285 - val_regression_loss: 13.7008 - lr: 4.8828e-09\n",
            "Epoch 174/300\n",
            " 1/10 [==>...........................] - ETA: 0s - loss: 15.5539 - regression_loss: 10.8443\n",
            "Epoch 174: ReduceLROnPlateau reducing learning rate to 2.4414061883248905e-09.\n",
            "10/10 [==============================] - 0s 6ms/step - loss: 16.0489 - regression_loss: 10.8475 - val_loss: 19.8285 - val_regression_loss: 13.7008 - lr: 4.8828e-09\n",
            "Epoch 175/300\n",
            "10/10 [==============================] - 0s 5ms/step - loss: 16.0913 - regression_loss: 10.8475 - val_loss: 19.8285 - val_regression_loss: 13.7008 - lr: 2.4414e-09\n",
            "Epoch 176/300\n",
            "10/10 [==============================] - 0s 5ms/step - loss: 16.1206 - regression_loss: 10.8475 - val_loss: 19.8285 - val_regression_loss: 13.7008 - lr: 2.4414e-09\n",
            "Epoch 177/300\n",
            "10/10 [==============================] - 0s 5ms/step - loss: 15.9876 - regression_loss: 10.8475 - val_loss: 19.8285 - val_regression_loss: 13.7008 - lr: 2.4414e-09\n",
            "Epoch 178/300\n",
            "10/10 [==============================] - 0s 5ms/step - loss: 16.0998 - regression_loss: 10.8474 - val_loss: 19.8285 - val_regression_loss: 13.7007 - lr: 2.4414e-09\n",
            "Epoch 179/300\n",
            " 1/10 [==>...........................] - ETA: 0s - loss: 17.9370 - regression_loss: 13.2273\n",
            "Epoch 179: ReduceLROnPlateau reducing learning rate to 1.2207030941624453e-09.\n",
            "10/10 [==============================] - 0s 5ms/step - loss: 16.0237 - regression_loss: 10.8474 - val_loss: 19.8285 - val_regression_loss: 13.7007 - lr: 2.4414e-09\n",
            "Epoch 180/300\n",
            "10/10 [==============================] - 0s 6ms/step - loss: 16.1273 - regression_loss: 10.8474 - val_loss: 19.8285 - val_regression_loss: 13.7007 - lr: 1.2207e-09\n",
            "Epoch 181/300\n",
            "10/10 [==============================] - 0s 5ms/step - loss: 16.1523 - regression_loss: 10.8474 - val_loss: 19.8285 - val_regression_loss: 13.7007 - lr: 1.2207e-09\n",
            "Epoch 182/300\n",
            "10/10 [==============================] - 0s 5ms/step - loss: 16.0383 - regression_loss: 10.8474 - val_loss: 19.8285 - val_regression_loss: 13.7007 - lr: 1.2207e-09\n",
            "Epoch 183/300\n",
            "10/10 [==============================] - 0s 7ms/step - loss: 16.0637 - regression_loss: 10.8474 - val_loss: 19.8285 - val_regression_loss: 13.7007 - lr: 1.2207e-09\n",
            "Epoch 184/300\n",
            " 1/10 [==>...........................] - ETA: 0s - loss: 16.3324 - regression_loss: 11.6227\n",
            "Epoch 184: ReduceLROnPlateau reducing learning rate to 6.103515470812226e-10.\n",
            "10/10 [==============================] - 0s 7ms/step - loss: 16.1427 - regression_loss: 10.8474 - val_loss: 19.8285 - val_regression_loss: 13.7007 - lr: 1.2207e-09\n",
            "Epoch 185/300\n",
            "10/10 [==============================] - 0s 5ms/step - loss: 16.0890 - regression_loss: 10.8474 - val_loss: 19.8285 - val_regression_loss: 13.7007 - lr: 6.1035e-10\n",
            "Epoch 186/300\n",
            "10/10 [==============================] - 0s 5ms/step - loss: 16.1389 - regression_loss: 10.8474 - val_loss: 19.8285 - val_regression_loss: 13.7007 - lr: 6.1035e-10\n",
            "Epoch 187/300\n",
            "10/10 [==============================] - 0s 6ms/step - loss: 15.9900 - regression_loss: 10.8474 - val_loss: 19.8285 - val_regression_loss: 13.7007 - lr: 6.1035e-10\n",
            "Epoch 188/300\n",
            "10/10 [==============================] - 0s 6ms/step - loss: 15.9201 - regression_loss: 10.8474 - val_loss: 19.8285 - val_regression_loss: 13.7007 - lr: 6.1035e-10\n",
            "Epoch 189/300\n",
            " 1/10 [==>...........................] - ETA: 0s - loss: 17.1025 - regression_loss: 12.3929\n",
            "Epoch 189: ReduceLROnPlateau reducing learning rate to 3.051757735406113e-10.\n",
            "10/10 [==============================] - 0s 7ms/step - loss: 16.0235 - regression_loss: 10.8474 - val_loss: 19.8285 - val_regression_loss: 13.7007 - lr: 6.1035e-10\n",
            "Epoch 190/300\n",
            "10/10 [==============================] - 0s 6ms/step - loss: 16.0528 - regression_loss: 10.8474 - val_loss: 19.8285 - val_regression_loss: 13.7007 - lr: 3.0518e-10\n",
            "Epoch 191/300\n",
            "10/10 [==============================] - 0s 6ms/step - loss: 16.1152 - regression_loss: 10.8474 - val_loss: 19.8285 - val_regression_loss: 13.7007 - lr: 3.0518e-10\n",
            "Epoch 192/300\n",
            "10/10 [==============================] - 0s 5ms/step - loss: 16.1837 - regression_loss: 10.8474 - val_loss: 19.8285 - val_regression_loss: 13.7007 - lr: 3.0518e-10\n",
            "Epoch 193/300\n",
            "10/10 [==============================] - 0s 7ms/step - loss: 16.1887 - regression_loss: 10.8474 - val_loss: 19.8285 - val_regression_loss: 13.7007 - lr: 3.0518e-10\n",
            "Epoch 194/300\n",
            " 1/10 [==>...........................] - ETA: 0s - loss: 16.6435 - regression_loss: 11.9338\n",
            "Epoch 194: ReduceLROnPlateau reducing learning rate to 1.5258788677030566e-10.\n",
            "10/10 [==============================] - 0s 6ms/step - loss: 16.0550 - regression_loss: 10.8474 - val_loss: 19.8285 - val_regression_loss: 13.7007 - lr: 3.0518e-10\n",
            "Epoch 195/300\n",
            "10/10 [==============================] - 0s 6ms/step - loss: 16.0071 - regression_loss: 10.8474 - val_loss: 19.8285 - val_regression_loss: 13.7007 - lr: 1.5259e-10\n",
            "Epoch 196/300\n",
            "10/10 [==============================] - 0s 6ms/step - loss: 16.0767 - regression_loss: 10.8474 - val_loss: 19.8285 - val_regression_loss: 13.7007 - lr: 1.5259e-10\n",
            "Epoch 197/300\n",
            "10/10 [==============================] - 0s 5ms/step - loss: 16.1871 - regression_loss: 10.8474 - val_loss: 19.8285 - val_regression_loss: 13.7007 - lr: 1.5259e-10\n",
            "Epoch 198/300\n",
            "10/10 [==============================] - 0s 5ms/step - loss: 15.9839 - regression_loss: 10.8474 - val_loss: 19.8285 - val_regression_loss: 13.7007 - lr: 1.5259e-10\n",
            "Epoch 199/300\n",
            " 1/10 [==>...........................] - ETA: 0s - loss: 13.4391 - regression_loss: 8.7294\n",
            "Epoch 199: ReduceLROnPlateau reducing learning rate to 7.629394338515283e-11.\n",
            "10/10 [==============================] - 0s 6ms/step - loss: 16.0837 - regression_loss: 10.8474 - val_loss: 19.8285 - val_regression_loss: 13.7007 - lr: 1.5259e-10\n",
            "Epoch 200/300\n",
            "10/10 [==============================] - 0s 8ms/step - loss: 16.1857 - regression_loss: 10.8474 - val_loss: 19.8285 - val_regression_loss: 13.7007 - lr: 7.6294e-11\n",
            "Epoch 201/300\n",
            "10/10 [==============================] - 0s 5ms/step - loss: 16.1326 - regression_loss: 10.8474 - val_loss: 19.8285 - val_regression_loss: 13.7007 - lr: 7.6294e-11\n",
            "Epoch 202/300\n",
            "10/10 [==============================] - 0s 6ms/step - loss: 16.1747 - regression_loss: 10.8474 - val_loss: 19.8285 - val_regression_loss: 13.7007 - lr: 7.6294e-11\n",
            "Epoch 203/300\n",
            "10/10 [==============================] - 0s 5ms/step - loss: 15.9606 - regression_loss: 10.8474 - val_loss: 19.8285 - val_regression_loss: 13.7007 - lr: 7.6294e-11\n",
            "Epoch 204/300\n",
            " 1/10 [==>...........................] - ETA: 0s - loss: 13.8589 - regression_loss: 9.1493\n",
            "Epoch 204: ReduceLROnPlateau reducing learning rate to 3.8146971692576415e-11.\n",
            "10/10 [==============================] - 0s 5ms/step - loss: 16.1311 - regression_loss: 10.8474 - val_loss: 19.8285 - val_regression_loss: 13.7007 - lr: 7.6294e-11\n",
            "Epoch 205/300\n",
            "10/10 [==============================] - 0s 5ms/step - loss: 16.1160 - regression_loss: 10.8474 - val_loss: 19.8285 - val_regression_loss: 13.7007 - lr: 3.8147e-11\n",
            "Epoch 206/300\n",
            "10/10 [==============================] - 0s 6ms/step - loss: 16.0340 - regression_loss: 10.8474 - val_loss: 19.8285 - val_regression_loss: 13.7007 - lr: 3.8147e-11\n",
            "Epoch 207/300\n",
            "10/10 [==============================] - 0s 6ms/step - loss: 16.0829 - regression_loss: 10.8474 - val_loss: 19.8285 - val_regression_loss: 13.7007 - lr: 3.8147e-11\n",
            "Epoch 208/300\n",
            "10/10 [==============================] - 0s 5ms/step - loss: 16.1701 - regression_loss: 10.8474 - val_loss: 19.8285 - val_regression_loss: 13.7007 - lr: 3.8147e-11\n",
            "Epoch 209/300\n",
            " 1/10 [==>...........................] - ETA: 0s - loss: 16.9310 - regression_loss: 12.2213\n",
            "Epoch 209: ReduceLROnPlateau reducing learning rate to 1.9073485846288207e-11.\n",
            "10/10 [==============================] - 0s 5ms/step - loss: 16.0065 - regression_loss: 10.8474 - val_loss: 19.8285 - val_regression_loss: 13.7007 - lr: 3.8147e-11\n",
            "Epoch 210/300\n",
            "10/10 [==============================] - 0s 7ms/step - loss: 16.1315 - regression_loss: 10.8474 - val_loss: 19.8285 - val_regression_loss: 13.7007 - lr: 1.9073e-11\n",
            "Epoch 211/300\n",
            "10/10 [==============================] - 0s 7ms/step - loss: 16.1428 - regression_loss: 10.8474 - val_loss: 19.8285 - val_regression_loss: 13.7007 - lr: 1.9073e-11\n",
            "Epoch 212/300\n",
            "10/10 [==============================] - 0s 6ms/step - loss: 16.0506 - regression_loss: 10.8474 - val_loss: 19.8285 - val_regression_loss: 13.7007 - lr: 1.9073e-11\n",
            "Epoch 213/300\n",
            "10/10 [==============================] - 0s 8ms/step - loss: 16.1286 - regression_loss: 10.8474 - val_loss: 19.8285 - val_regression_loss: 13.7007 - lr: 1.9073e-11\n",
            "Epoch 214/300\n",
            " 1/10 [==>...........................] - ETA: 0s - loss: 15.7257 - regression_loss: 11.0161\n",
            "Epoch 214: ReduceLROnPlateau reducing learning rate to 9.536742923144104e-12.\n",
            "10/10 [==============================] - 0s 6ms/step - loss: 15.9828 - regression_loss: 10.8474 - val_loss: 19.8285 - val_regression_loss: 13.7007 - lr: 1.9073e-11\n",
            "Epoch 215/300\n",
            "10/10 [==============================] - 0s 8ms/step - loss: 15.9318 - regression_loss: 10.8474 - val_loss: 19.8285 - val_regression_loss: 13.7007 - lr: 9.5367e-12\n",
            "Epoch 216/300\n",
            "10/10 [==============================] - 0s 6ms/step - loss: 16.0413 - regression_loss: 10.8474 - val_loss: 19.8285 - val_regression_loss: 13.7007 - lr: 9.5367e-12\n",
            "Epoch 217/300\n",
            "10/10 [==============================] - 0s 6ms/step - loss: 16.0491 - regression_loss: 10.8474 - val_loss: 19.8285 - val_regression_loss: 13.7007 - lr: 9.5367e-12\n",
            "Epoch 218/300\n",
            "10/10 [==============================] - 0s 6ms/step - loss: 16.2008 - regression_loss: 10.8474 - val_loss: 19.8285 - val_regression_loss: 13.7007 - lr: 9.5367e-12\n",
            "Epoch 219/300\n",
            " 1/10 [==>...........................] - ETA: 0s - loss: 14.2229 - regression_loss: 9.5132\n",
            "Epoch 219: ReduceLROnPlateau reducing learning rate to 4.768371461572052e-12.\n",
            "10/10 [==============================] - 0s 6ms/step - loss: 16.0347 - regression_loss: 10.8474 - val_loss: 19.8285 - val_regression_loss: 13.7007 - lr: 9.5367e-12\n",
            "Epoch 220/300\n",
            "10/10 [==============================] - 0s 5ms/step - loss: 16.0728 - regression_loss: 10.8474 - val_loss: 19.8285 - val_regression_loss: 13.7007 - lr: 4.7684e-12\n",
            "Epoch 221/300\n",
            "10/10 [==============================] - 0s 5ms/step - loss: 16.0137 - regression_loss: 10.8474 - val_loss: 19.8285 - val_regression_loss: 13.7007 - lr: 4.7684e-12\n",
            "Epoch 222/300\n",
            "10/10 [==============================] - 0s 5ms/step - loss: 16.0164 - regression_loss: 10.8474 - val_loss: 19.8285 - val_regression_loss: 13.7007 - lr: 4.7684e-12\n",
            "Epoch 223/300\n",
            "10/10 [==============================] - 0s 5ms/step - loss: 16.0917 - regression_loss: 10.8474 - val_loss: 19.8285 - val_regression_loss: 13.7007 - lr: 4.7684e-12\n",
            "Epoch 224/300\n",
            " 1/10 [==>...........................] - ETA: 0s - loss: 16.4500 - regression_loss: 11.7404\n",
            "Epoch 224: ReduceLROnPlateau reducing learning rate to 2.384185730786026e-12.\n",
            "10/10 [==============================] - 0s 5ms/step - loss: 16.0406 - regression_loss: 10.8474 - val_loss: 19.8285 - val_regression_loss: 13.7007 - lr: 4.7684e-12\n",
            "Epoch 225/300\n",
            "10/10 [==============================] - 0s 6ms/step - loss: 16.0756 - regression_loss: 10.8474 - val_loss: 19.8285 - val_regression_loss: 13.7007 - lr: 2.3842e-12\n",
            "DONE!\n"
          ]
        }
      ]
    },
    {
      "cell_type": "code",
      "source": [
        "# Since we know the true  CATEs in our simulations, let's plot our results against the true values..\n",
        "\n",
        "import pandas as pd\n",
        "\n",
        "def plot_cates(y0_pred,y1_pred,data):\n",
        "  #dont forget to rescale the outcome before estimation!\n",
        "  y0_pred = data['y_scaler'].inverse_transform(y0_pred)\n",
        "  y1_pred = data['y_scaler'].inverse_transform(y1_pred)\n",
        "  cate_pred=(y1_pred-y0_pred).squeeze()\n",
        "  cate_true=(data['mu_1']-data['mu_0']).squeeze() #Hill's noiseless true values\n",
        "  ate_pred=tf.reduce_mean(cate_pred)\n",
        "\n",
        "  print(pd.Series(cate_pred).plot.kde(color='blue'))\n",
        "  print(pd.Series(cate_true).plot.kde(color='green'))\n",
        "\n",
        "  print(pd.Series(cate_true-cate_pred).plot.kde(color='red'))\n",
        "  pehe=tf.reduce_mean( tf.square( ( cate_true - cate_pred) ) )\n",
        "  sqrt_pehe=tf.sqrt(pehe).numpy()\n",
        "  print(\"\\nSQRT PEHE:\",sqrt_pehe)\n",
        "  print(\"Estimated ATE (True is 4):\", ate_pred.numpy(),'\\n\\n')\n",
        "  \n",
        "  print(\"\\nError CATE Estimates: RED\")\n",
        "  print(\"Individualized CATE Estimates: BLUE\")\n",
        "  print(\"Individualized CATE True: GREEN\")\n",
        "  return sqrt_pehe,np.abs(ate_pred.numpy()-4)"
      ],
      "metadata": {
        "id": "tPeOyF98jTmI"
      },
      "execution_count": 30,
      "outputs": []
    },
    {
      "cell_type": "code",
      "source": [
        "# Estimating the ATE/CATE\n",
        "\n",
        "concat_pred=tarnet_model.predict(data['x'])\n",
        "#dont forget to rescale the outcome before estimation!\n",
        "y0_pred_tarnet,y1_pred_tarnet = (concat_pred[:, 0].reshape(-1,1)),(concat_pred[:, 1].reshape(-1,1))\n",
        "plot_cates(y0_pred_tarnet,y1_pred_tarnet,data)"
      ],
      "metadata": {
        "id": "MohVOZAx2fMo",
        "colab": {
          "base_uri": "https://localhost:8080/",
          "height": 508
        },
        "outputId": "e0017116-c381-4384-a9f7-34a9bd509e0c"
      },
      "execution_count": 31,
      "outputs": [
        {
          "output_type": "stream",
          "name": "stdout",
          "text": [
            "24/24 [==============================] - 0s 1ms/step\n",
            "AxesSubplot(0.125,0.125;0.775x0.755)\n",
            "AxesSubplot(0.125,0.125;0.775x0.755)\n",
            "AxesSubplot(0.125,0.125;0.775x0.755)\n",
            "\n",
            "SQRT PEHE: 0.6038055\n",
            "Estimated ATE (True is 4): 3.7291324 \n",
            "\n",
            "\n",
            "\n",
            "Error CATE Estimates: RED\n",
            "Individualized CATE Estimates: BLUE\n",
            "Individualized CATE True: GREEN\n"
          ]
        },
        {
          "output_type": "execute_result",
          "data": {
            "text/plain": [
              "(0.6038055, 0.27086758613586426)"
            ]
          },
          "metadata": {},
          "execution_count": 31
        },
        {
          "output_type": "display_data",
          "data": {
            "text/plain": [
              "<Figure size 432x288 with 1 Axes>"
            ],
            "image/png": "[encoded data removed]"
          },
          "metadata": {
            "needs_background": "light"
          }
        }
      ]
    },
    {
      "cell_type": "code",
      "source": [
        "# # Load Facet Dive\n",
        "\n",
        "# #@title Load Facet Dive { display-mode: \"form\" }\n",
        "# cate_pred=(y1_pred_tarnet-y0_pred_tarnet).squeeze()\n",
        "# data['cate_pred']=cate_pred\n",
        "# facet_df=pd.DataFrame(data['x'])\n",
        "# facet_df['t']=data['t']\n",
        "# facet_df['y']=data['y']\n",
        "# facet_df['cate_pred']=data['cate_pred']\n",
        "\n",
        "\n",
        "# # Display the Dive visualization for the training data.\n",
        "# from IPython.core.display import display, HTML\n",
        "\n",
        "# jsonstr = facet_df.to_json(orient='records')\n",
        "# HTML_TEMPLATE = \"\"\"\n",
        "#         <script src=\"https://cdnjs.cloudflare.com/ajax/libs/webcomponentsjs/1.3.3/webcomponents-lite.js\"></script>\n",
        "#         <link rel=\"import\" href=\"https://raw.githubusercontent.com/PAIR-code/facets/1.0.0/facets-dist/facets-jupyter.html\">\n",
        "#         <facets-dive id=\"elem\" height=\"600\"></facets-dive>\n",
        "#         <script>\n",
        "#           var data = {jsonstr};\n",
        "#           document.querySelector(\"#elem\").data = data;\n",
        "#         </script>\"\"\"\n",
        "# html = HTML_TEMPLATE.format(jsonstr=jsonstr)\n",
        "# display(HTML(html))"
      ],
      "metadata": {
        "id": "AdKXQxITHKS3"
      },
      "execution_count": 33,
      "outputs": []
    },
    {
      "cell_type": "code",
      "source": [
        "# Save model : method 1:"
      ],
      "metadata": {
        "id": "ZhBUkTf82_Hr"
      },
      "execution_count": null,
      "outputs": []
    },
    {
      "cell_type": "code",
      "source": [
        "# # save the Tarnet deep learning model using HDF5 standard\n",
        "# # The '.h5' extension indicates that the model should be saved to HDF5.\n",
        "\n",
        "# tarnet_model.save('Tarnet_model.h5')"
      ],
      "metadata": {
        "id": "Dn51NcGJROaR"
      },
      "execution_count": 37,
      "outputs": []
    },
    {
      "cell_type": "code",
      "source": [
        "# # Now, recreate the model from that file:\n",
        "# # Recreate the exact same model, including its weights and the optimizer\n",
        "\n",
        "# new_model = tensorflow.keras.models.load_model('Tarnet_model.h5')"
      ],
      "metadata": {
        "id": "LWKj6B2HoBEa"
      },
      "execution_count": 38,
      "outputs": []
    },
    {
      "cell_type": "code",
      "source": [
        "# # Show the model architecture\n",
        "# new_model.summary()"
      ],
      "metadata": {
        "id": "MaTcKcD3oQlF"
      },
      "execution_count": 39,
      "outputs": []
    },
    {
      "cell_type": "code",
      "source": [
        "# STEPS: Method 2:"
      ],
      "metadata": {
        "id": "eI6_lCEiqIEw"
      },
      "execution_count": null,
      "outputs": []
    },
    {
      "cell_type": "code",
      "source": [
        "# # Calling `save('my_model')` creates a SavedModel folder `my_model`.\n",
        "# model.save(\"my_model\")\n",
        "# # It can be used to reconstruct the model identically.\n",
        "# reconstructed_model = keras.models.load_model(\"my_model\")\n",
        "\n",
        "# What the SavedModel contains:\n",
        "# Calling model.save('my_model') creates a folder named my_model, containing the following:\n",
        "# By using command the following files are visible :- ls my_model:\n",
        "# assets  keras_metadata.pb  saved_model.pb  variables\n",
        "\n",
        "# The model architecture, and training configuration (including the optimizer, losses, and metrics) are stored \n",
        "# in saved_model.pb. The weights are saved in the variables/ directory.\n",
        "\n",
        "# For detailed information on the SavedModel format, see the SavedModel guide (The SavedModel format on disk).\n",
        "\n",
        "# How SavedModel handles custom objects\n",
        "# When saving the model and its layers, the SavedModel format stores the class name, call function, losses, and weights \n",
        "# (and the config, if implemented). The call function defines the computation graph of the model/layer.\n",
        "\n",
        "# In the absence of the model/layer config, the call function is used to create a model that exists like the original model which \n",
        "# can be trained, evaluated, and used for inference.\n",
        "\n",
        "# Nevertheless, it is always a good practice to define the get_config and from_config methods when writing a custom model or \n",
        "# layer class. This allows you to easily update the computation later if needed. See the section about Custom objects for more \n",
        "# information."
      ],
      "metadata": {
        "id": "a6kCzLtopzex"
      },
      "execution_count": null,
      "outputs": []
    },
    {
      "cell_type": "code",
      "source": [],
      "metadata": {
        "id": "U0_0prCm0pJA"
      },
      "execution_count": null,
      "outputs": []
    },
    {
      "cell_type": "code",
      "source": [],
      "metadata": {
        "id": "CQscjmr00pMy"
      },
      "execution_count": null,
      "outputs": []
    },
    {
      "cell_type": "code",
      "source": [
        "# tarnet_model.save(\"my_model\")\n",
        "# ls my_model"
      ],
      "metadata": {
        "id": "L0zijlqiq7Sz"
      },
      "execution_count": 40,
      "outputs": []
    },
    {
      "cell_type": "code",
      "source": [],
      "metadata": {
        "id": "a3NLHwVTrEoC"
      },
      "execution_count": 46,
      "outputs": []
    },
    {
      "cell_type": "code",
      "source": [
        "# Method 3:"
      ],
      "metadata": {
        "id": "k05D6LyYrOCL"
      },
      "execution_count": 46,
      "outputs": []
    },
    {
      "cell_type": "code",
      "source": [
        "# Saving the model \n",
        "# creating a new directory for model weights\n",
        "import os\n",
        "model_weight_dir = 'Weights'\n",
        "\n",
        "os.makedirs(model_weight_dir, exist_ok = True)\n",
        "\n",
        "# saving the model weights\n",
        "tarnet_model.save(os.path.join(model_weight_dir,'tarnet_model.tf'),save_format ='tf')"
      ],
      "metadata": {
        "id": "mo2zyISurrYi"
      },
      "execution_count": 47,
      "outputs": []
    },
    {
      "cell_type": "code",
      "source": [
        "# loading the save model\n",
        "tarnet_load_model = tf.keras.models.load_model(os.path.join(model_weight_dir,'tarnet_model.tf'), compile=False) "
      ],
      "metadata": {
        "colab": {
          "base_uri": "https://localhost:8080/"
        },
        "id": "jMaHrmWF0-tG",
        "outputId": "e10815e3-148c-4c02-abf2-fa0113f0d20f"
      },
      "execution_count": 50,
      "outputs": [
        {
          "output_type": "stream",
          "name": "stderr",
          "text": [
            "WARNING:tensorflow:Unable to restore custom metric. Please ensure that the layer implements `get_config` and `from_config` when saving. In addition, please use the `custom_objects` arg when calling `load_model()`.\n"
          ]
        }
      ]
    },
    {
      "cell_type": "code",
      "source": [
        "tarnet_load_model.summary()"
      ],
      "metadata": {
        "colab": {
          "base_uri": "https://localhost:8080/"
        },
        "id": "f7H-43871KG6",
        "outputId": "1824c2e5-a7bd-4a59-e83f-527d93f2e974"
      },
      "execution_count": 52,
      "outputs": [
        {
          "output_type": "stream",
          "name": "stdout",
          "text": [
            "Model: \"model_1\"\n",
            "__________________________________________________________________________________________________\n",
            " Layer (type)                   Output Shape         Param #     Connected to                     \n",
            "==================================================================================================\n",
            " input (InputLayer)             [(None, 25)]         0           []                               \n",
            "                                                                                                  \n",
            " phi_1 (Dense)                  (None, 200)          5200        ['input[0][0]']                  \n",
            "                                                                                                  \n",
            " phi_2 (Dense)                  (None, 200)          40200       ['phi_1[0][0]']                  \n",
            "                                                                                                  \n",
            " phi_3 (Dense)                  (None, 200)          40200       ['phi_2[0][0]']                  \n",
            "                                                                                                  \n",
            " y0_hidden_1 (Dense)            (None, 100)          20100       ['phi_3[0][0]']                  \n",
            "                                                                                                  \n",
            " y1_hidden_1 (Dense)            (None, 100)          20100       ['phi_3[0][0]']                  \n",
            "                                                                                                  \n",
            " y0_hidden_2 (Dense)            (None, 100)          10100       ['y0_hidden_1[0][0]']            \n",
            "                                                                                                  \n",
            " y1_hidden_2 (Dense)            (None, 100)          10100       ['y1_hidden_1[0][0]']            \n",
            "                                                                                                  \n",
            " y0_predictions (Dense)         (None, 1)            101         ['y0_hidden_2[0][0]']            \n",
            "                                                                                                  \n",
            " y1_predictions (Dense)         (None, 1)            101         ['y1_hidden_2[0][0]']            \n",
            "                                                                                                  \n",
            " concatenate_1 (Concatenate)    (None, 2)            0           ['y0_predictions[0][0]',         \n",
            "                                                                  'y1_predictions[0][0]']         \n",
            "                                                                                                  \n",
            "==================================================================================================\n",
            "Total params: 146,202\n",
            "Trainable params: 146,202\n",
            "Non-trainable params: 0\n",
            "__________________________________________________________________________________________________\n"
          ]
        }
      ]
    },
    {
      "cell_type": "code",
      "source": [
        "# # Evaluation \n",
        "# evaluation = load_model.evaluate(x = x_ts, y = y_ts, batch_size = 512)"
      ],
      "metadata": {
        "id": "meSItbw82iQa"
      },
      "execution_count": null,
      "outputs": []
    },
    {
      "cell_type": "code",
      "source": [
        "# Total params: 146,202\n",
        "# Trainable params: 146,202\n",
        "# Non-trainable params: 0"
      ],
      "metadata": {
        "id": "ZsQeH75x2015"
      },
      "execution_count": null,
      "outputs": []
    }
  ]
}