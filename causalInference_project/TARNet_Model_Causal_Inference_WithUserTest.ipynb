{
  "nbformat": 4,
  "nbformat_minor": 0,
  "metadata": {
    "colab": {
      "provenance": []
    },
    "kernelspec": {
      "name": "python3",
      "display_name": "Python 3"
    },
    "language_info": {
      "name": "python"
    }
  },
  "cells": [
    {
      "cell_type": "code",
      "source": [
        "# TARNet (Baseline model) : A type of Deep Learning Model"
      ],
      "metadata": {
        "id": "jUZUagn0sYTR"
      },
      "execution_count": 1,
      "outputs": []
    },
    {
      "cell_type": "code",
      "execution_count": 2,
      "metadata": {
        "colab": {
          "base_uri": "https://localhost:8080/"
        },
        "id": "GKt9KHvuhHtM",
        "outputId": "31ad1723-03b1-481d-c357-d5285db9171c"
      },
      "outputs": [
        {
          "output_type": "stream",
          "name": "stdout",
          "text": [
            "2.9.2\n"
          ]
        }
      ],
      "source": [
        "# import packages\n",
        "\n",
        "import tensorflow as tf\n",
        "import numpy as np #numpy is the numerical computing package in python\n",
        "import datetime    #we'll use dates to label our logs\n",
        "print(tf.__version__)"
      ]
    },
    {
      "cell_type": "code",
      "source": [
        "# DataSet:\n",
        "# The IHDP dataset used in this example is a naturalistic simulation introduced in Hill, 2011 to evaluate estimation of heterogeneous \n",
        "# treatment effects (CATE). The 25 covariates/features for the 747 units (139 treated) in the dataset were taken from an experiment, \n",
        "# but Hill simulated the outcomes to create known counterfactuals. The data is available from Fredrik Johansson's website. \n",
        "# IHDP is the de facto benchmark in this literature."
      ],
      "metadata": {
        "id": "KGM6pnLzwmei"
      },
      "execution_count": 3,
      "outputs": []
    },
    {
      "cell_type": "code",
      "source": [
        "# Extracting Data:\n",
        "\n",
        "from sklearn.preprocessing import StandardScaler\n",
        "!wget -nc http://www.fredjo.com/files/ihdp_npci_1-100.train.npz\n",
        "!wget -nc http://www.fredjo.com/files/ihdp_npci_1-100.test.npz "
      ],
      "metadata": {
        "colab": {
          "base_uri": "https://localhost:8080/"
        },
        "id": "bO3r8-ZXxFNJ",
        "outputId": "a5ffdbee-e28c-45c5-b043-f760bf601c40"
      },
      "execution_count": 4,
      "outputs": [
        {
          "output_type": "stream",
          "name": "stdout",
          "text": [
            "--2023-01-30 07:16:54--  http://www.fredjo.com/files/ihdp_npci_1-100.train.npz\n",
            "Resolving www.fredjo.com (www.fredjo.com)... 185.199.108.153, 185.199.109.153, 185.199.110.153, ...\n",
            "Connecting to www.fredjo.com (www.fredjo.com)|185.199.108.153|:80... connected.\n",
            "HTTP request sent, awaiting response... 301 Moved Permanently\n",
            "Location: https://www.fredjo.com/files/ihdp_npci_1-100.train.npz [following]\n",
            "--2023-01-30 07:16:54--  https://www.fredjo.com/files/ihdp_npci_1-100.train.npz\n",
            "Connecting to www.fredjo.com (www.fredjo.com)|185.199.108.153|:443... connected.\n",
            "HTTP request sent, awaiting response... 200 OK\n",
            "Length: 16129570 (15M) [application/octet-stream]\n",
            "Saving to: ‘ihdp_npci_1-100.train.npz’\n",
            "\n",
            "ihdp_npci_1-100.tra 100%[===================>]  15.38M  --.-KB/s    in 0.1s    \n",
            "\n",
            "2023-01-30 07:16:54 (130 MB/s) - ‘ihdp_npci_1-100.train.npz’ saved [16129570/16129570]\n",
            "\n",
            "--2023-01-30 07:16:55--  http://www.fredjo.com/files/ihdp_npci_1-100.test.npz\n",
            "Resolving www.fredjo.com (www.fredjo.com)... 185.199.108.153, 185.199.109.153, 185.199.110.153, ...\n",
            "Connecting to www.fredjo.com (www.fredjo.com)|185.199.108.153|:80... connected.\n",
            "HTTP request sent, awaiting response... 301 Moved Permanently\n",
            "Location: https://www.fredjo.com/files/ihdp_npci_1-100.test.npz [following]\n",
            "--2023-01-30 07:16:55--  https://www.fredjo.com/files/ihdp_npci_1-100.test.npz\n",
            "Connecting to www.fredjo.com (www.fredjo.com)|185.199.108.153|:443... connected.\n",
            "HTTP request sent, awaiting response... 200 OK\n",
            "Length: 1801570 (1.7M) [application/octet-stream]\n",
            "Saving to: ‘ihdp_npci_1-100.test.npz’\n",
            "\n",
            "ihdp_npci_1-100.tes 100%[===================>]   1.72M  --.-KB/s    in 0.06s   \n",
            "\n",
            "2023-01-30 07:16:55 (29.9 MB/s) - ‘ihdp_npci_1-100.test.npz’ saved [1801570/1801570]\n",
            "\n"
          ]
        }
      ]
    },
    {
      "cell_type": "code",
      "source": [
        "# function for loading the data\n",
        "\n",
        "def load_IHDP_data(training_data,testing_data,i=7):\n",
        "    with open(training_data,'rb') as trf, open(testing_data,'rb') as tef:\n",
        "        train_data=np.load(trf); test_data=np.load(tef)\n",
        "        y=np.concatenate(   (train_data['yf'][:,i],   test_data['yf'][:,i])).astype('float32') #most GPUs only compute 32-bit floats\n",
        "        t=np.concatenate(   (train_data['t'][:,i],    test_data['t'][:,i])).astype('float32')\n",
        "        x=np.concatenate(   (train_data['x'][:,:,i],  test_data['x'][:,:,i]),axis=0).astype('float32')\n",
        "        mu_0=np.concatenate((train_data['mu0'][:,i],  test_data['mu0'][:,i])).astype('float32')\n",
        "        mu_1=np.concatenate((train_data['mu1'][:,i],  test_data['mu1'][:,i])).astype('float32')\n",
        " \n",
        "        data={'x':x,'t':t,'y':y,'t':t,'mu_0':mu_0,'mu_1':mu_1}\n",
        "        data['t']=data['t'].reshape(-1,1) #we're just padding one dimensional vectors with an additional dimension \n",
        "        data['y']=data['y'].reshape(-1,1)\n",
        "        \n",
        "        #rescaling y between 0 and 1 often makes training of DL regressors easier\n",
        "        data['y_scaler'] = StandardScaler().fit(data['y'])\n",
        "        data['ys'] = data['y_scaler'].transform(data['y'])\n",
        " \n",
        "    return data\n",
        " \n",
        "data=load_IHDP_data(training_data='./ihdp_npci_1-100.train.npz',testing_data='./ihdp_npci_1-100.test.npz')"
      ],
      "metadata": {
        "id": "2bN98AVHxwVS"
      },
      "execution_count": 5,
      "outputs": []
    },
    {
      "cell_type": "code",
      "source": [
        "# data is a dictionary (equivalent to a list in R). I'll print out a bit for you to see what it looks like:\n",
        "\n",
        "for key in data:\n",
        "  if key == 'y_scaler': continue\n",
        "  print(key, data[key][:5])"
      ],
      "metadata": {
        "colab": {
          "base_uri": "https://localhost:8080/"
        },
        "id": "_qcADnds7QL4",
        "outputId": "b1cd61b9-de9c-4344-f0e4-df9e686ae749"
      },
      "execution_count": 6,
      "outputs": [
        {
          "output_type": "stream",
          "name": "stdout",
          "text": [
            "x [[-0.65613806 -1.0024741  -0.360898    0.16170253  0.24605164 -0.8577868\n",
            "   1.          0.          0.          0.          1.          0.\n",
            "   0.          1.          1.          1.          0.          1.\n",
            "   0.          0.          0.          0.          1.          0.\n",
            "   0.        ]\n",
            " [-1.7153288  -1.0024741  -0.733261    0.16170253  1.1212925   0.9639847\n",
            "   1.          0.          1.          0.          0.          1.\n",
            "   0.          1.          1.          1.          1.          1.\n",
            "   0.          0.          0.          0.          0.          0.\n",
            "   0.        ]\n",
            " [ 0.5543657   0.19681813 -0.360898   -0.879606   -0.6917064  -1.0234023\n",
            "   1.          0.          0.          1.          0.          0.\n",
            "   0.          2.          0.          1.          0.          1.\n",
            "   0.          0.          0.          0.          0.          1.\n",
            "   0.        ]\n",
            " [ 0.53274953  0.5965822  -1.4779869   0.16170253  1.0587753  -0.8577868\n",
            "   1.          0.          0.          1.          0.          0.\n",
            "   0.          1.          1.          0.          1.          1.\n",
            "   0.          0.          0.          0.          0.          1.\n",
            "   0.        ]\n",
            " [-0.50482506 -0.20294595  0.01146499  2.2443194   0.5586377  -0.6921712\n",
            "   0.          0.          0.          1.          0.          0.\n",
            "   1.          1.          0.          1.          0.          1.\n",
            "   0.          0.          0.          0.          0.          0.\n",
            "   0.        ]]\n",
            "t [[0.]\n",
            " [0.]\n",
            " [0.]\n",
            " [0.]\n",
            " [0.]]\n",
            "y [[ 4.868248 ]\n",
            " [ 9.931342 ]\n",
            " [ 4.8483024]\n",
            " [11.87751  ]\n",
            " [ 3.594292 ]]\n",
            "mu_0 [ 4.704035   9.01164    4.3636875 10.735007   3.948971 ]\n",
            "mu_1 [8.487885 9.137982 8.412783 9.312975 8.312921]\n",
            "ys [[-0.15342326]\n",
            " [ 1.7950603 ]\n",
            " [-0.16109915]\n",
            " [ 2.5440245 ]\n",
            " [-0.64369315]]\n"
          ]
        }
      ]
    },
    {
      "cell_type": "code",
      "source": [
        "# import packages for DL model\n",
        "\n",
        "from tensorflow import keras\n",
        "from tensorflow.keras.layers import Input\n",
        "from tensorflow.keras.layers import Dense\n",
        "from tensorflow.keras.layers import Concatenate\n",
        "from tensorflow.keras import regularizers\n",
        "from tensorflow.keras import Model\n"
      ],
      "metadata": {
        "id": "N43nvZkQm4Zz"
      },
      "execution_count": 7,
      "outputs": []
    },
    {
      "cell_type": "code",
      "source": [
        "# function to build the model using Tensorflow 2's functional API. The functional API is one of three API's in Tensorflow\n",
        "\n",
        "def make_tarnet(input_dim, reg_l2):\n",
        "    '''\n",
        "    The first argument is the column dimension of our data.\n",
        "    It needs to be specified because the functional API creates a static computational graph\n",
        "    The second argument is the strength of regularization we'll apply to the output layers\n",
        "    '''\n",
        "    x = Input(shape=(input_dim,), name='input')\n",
        "\n",
        "    # REPRESENTATION (no regularization to the representation layers)\n",
        "    phi = Dense(units=200, activation='elu', kernel_initializer='RandomNormal',name='phi_1')(x)\n",
        "    phi = Dense(units=200, activation='elu', kernel_initializer='RandomNormal',name='phi_2')(phi)\n",
        "    phi = Dense(units=200, activation='elu', kernel_initializer='RandomNormal',name='phi_3')(phi)\n",
        "\n",
        "    # HYPOTHESIS\n",
        "    y0_hidden = Dense(units=100, activation='elu', kernel_regularizer=regularizers.l2(reg_l2),name='y0_hidden_1')(phi)\n",
        "    y1_hidden = Dense(units=100, activation='elu', kernel_regularizer=regularizers.l2(reg_l2),name='y1_hidden_1')(phi)\n",
        "\n",
        "    # second layer\n",
        "    y0_hidden = Dense(units=100, activation='elu', kernel_regularizer=regularizers.l2(reg_l2),name='y0_hidden_2')(y0_hidden)\n",
        "    y1_hidden = Dense(units=100, activation='elu', kernel_regularizer=regularizers.l2(reg_l2),name='y1_hidden_2')(y1_hidden)\n",
        "\n",
        "    # third\n",
        "    y0_predictions = Dense(units=1, activation=None, kernel_regularizer=regularizers.l2(reg_l2), name='y0_predictions')(y0_hidden)\n",
        "    y1_predictions = Dense(units=1, activation=None, kernel_regularizer=regularizers.l2(reg_l2), name='y1_predictions')(y1_hidden)\n",
        "\n",
        "    #a convenience \"layer\" that concatenates arrays as columns in a matrix\n",
        "    concat_pred = Concatenate(1)([y0_predictions, y1_predictions])\n",
        "    #the declarations above have specified the computational graph of our network, now we instantiate it\n",
        "    model = Model(inputs=x, outputs=concat_pred)\n",
        "\n",
        "    return model"
      ],
      "metadata": {
        "id": "6eZjY0cVtcPb"
      },
      "execution_count": 8,
      "outputs": []
    },
    {
      "cell_type": "code",
      "source": [
        "# The summary method can be used to confirm that the architecture is specified correctly.\n",
        "\n",
        "tarnet_model=make_tarnet(25,.01)\n",
        "\n",
        "print(tarnet_model.summary())\n",
        "tf.keras.utils.plot_model(tarnet_model, show_shapes=True, show_layer_names=True, to_file='tarnet.png')\n",
        "\n",
        "from IPython.display import Image             # this just Jupyter notebook stuff\n",
        "Image(retina=True, filename='tarnet.png')     "
      ],
      "metadata": {
        "colab": {
          "base_uri": "https://localhost:8080/",
          "height": 1000
        },
        "id": "0OcRTtARtu2x",
        "outputId": "4c1f3a7d-06de-4281-ec8d-eda03c72e5dd"
      },
      "execution_count": 9,
      "outputs": [
        {
          "output_type": "stream",
          "name": "stdout",
          "text": [
            "Model: \"model\"\n",
            "__________________________________________________________________________________________________\n",
            " Layer (type)                   Output Shape         Param #     Connected to                     \n",
            "==================================================================================================\n",
            " input (InputLayer)             [(None, 25)]         0           []                               \n",
            "                                                                                                  \n",
            " phi_1 (Dense)                  (None, 200)          5200        ['input[0][0]']                  \n",
            "                                                                                                  \n",
            " phi_2 (Dense)                  (None, 200)          40200       ['phi_1[0][0]']                  \n",
            "                                                                                                  \n",
            " phi_3 (Dense)                  (None, 200)          40200       ['phi_2[0][0]']                  \n",
            "                                                                                                  \n",
            " y0_hidden_1 (Dense)            (None, 100)          20100       ['phi_3[0][0]']                  \n",
            "                                                                                                  \n",
            " y1_hidden_1 (Dense)            (None, 100)          20100       ['phi_3[0][0]']                  \n",
            "                                                                                                  \n",
            " y0_hidden_2 (Dense)            (None, 100)          10100       ['y0_hidden_1[0][0]']            \n",
            "                                                                                                  \n",
            " y1_hidden_2 (Dense)            (None, 100)          10100       ['y1_hidden_1[0][0]']            \n",
            "                                                                                                  \n",
            " y0_predictions (Dense)         (None, 1)            101         ['y0_hidden_2[0][0]']            \n",
            "                                                                                                  \n",
            " y1_predictions (Dense)         (None, 1)            101         ['y1_hidden_2[0][0]']            \n",
            "                                                                                                  \n",
            " concatenate (Concatenate)      (None, 2)            0           ['y0_predictions[0][0]',         \n",
            "                                                                  'y1_predictions[0][0]']         \n",
            "                                                                                                  \n",
            "==================================================================================================\n",
            "Total params: 146,202\n",
            "Trainable params: 146,202\n",
            "Non-trainable params: 0\n",
            "__________________________________________________________________________________________________\n",
            "None\n"
          ]
        },
        {
          "output_type": "execute_result",
          "data": {
            "image/png": "[encoded data removed]",
            "text/plain": [
              "<IPython.core.display.Image object>"
            ]
          },
          "metadata": {
            "image/png": {
              "width": 330,
              "height": 424
            }
          },
          "execution_count": 9
        }
      ]
    },
    {
      "cell_type": "code",
      "source": [
        "# Specifying the loss function:\n",
        "# There are again at least four different ways to specify loss functions in Tensorflow2: if you have a standard loss there are built-in options, \n",
        "# you can specify them as custom functions, custom objects, or build them into custom layers of your network. Here we've written a function.\n",
        "# Note that we compute losses separately and just add them to get the whole loss. Tensorflow will apply the gradients appropriately to the \n",
        "# different outcome and representation layers."
      ],
      "metadata": {
        "id": "885P3g70t-lD"
      },
      "execution_count": 10,
      "outputs": []
    },
    {
      "cell_type": "code",
      "source": [
        "# Specifying the loss function:\n",
        "\n",
        "# every loss function in TF2 takes 2 arguments, a vector of true values and a vector predictions\n",
        "\n",
        "def regression_loss(concat_true, concat_pred):\n",
        "    #computes a standard MSE loss for TARNet\n",
        "    y_true = concat_true[:, 0] #get individual vectors\n",
        "    t_true = concat_true[:, 1]\n",
        "\n",
        "    y0_pred = concat_pred[:, 0]\n",
        "    y1_pred = concat_pred[:, 1]\n",
        "\n",
        "    #Each head outputs a prediction for both potential outcomes\n",
        "    #We use t_true as a switch to only calculate the factual loss\n",
        "\n",
        "    loss0 = tf.reduce_sum((1. - t_true) * tf.square(y_true - y0_pred))\n",
        "    loss1 = tf.reduce_sum(t_true * tf.square(y_true - y1_pred))\n",
        "    \n",
        "    return loss0 + loss1"
      ],
      "metadata": {
        "id": "Cqfraf9KvRHU"
      },
      "execution_count": 11,
      "outputs": []
    },
    {
      "cell_type": "code",
      "source": [
        "# Training and Fitting the Model\n",
        "\n",
        "# 1: used stochastic gradient descent to optimize the model with an initial learning rate, we can also use ADAM too\n",
        "# 2: While we should experiment with different learning rates, I recommend having a conservative (smaller) learning rate because we really\n",
        "#    want our estimator to be unbiased.\n",
        "# 3: To avoid overfitting, we stop training deep learning models when the validation loss stops improving. In Tensorflow the EarlyStopping \n",
        "#    callback automatically stops training after a number of epochs with no improvement on the validation loss (patience parameter). \n",
        "#    The ReduceLROnPlateau adaptively lowers the learning rate of the optimizer as we approach validation loss plateaus so that the \n",
        "#    optimizer does not overshoot the current optimum.\n",
        "# 4: Here used a mini-batch size of 64. We can also have batch sizes up to 200 with this dataset. \n",
        "#    The batch size is an important consideration for these causal inference architectures because you really want to make \n",
        "#    sure each mini-batch has both treatment and control examples for the representation layers. This is obviously less of a problem for \n",
        "#    datasets with high proportions of treated units."
      ],
      "metadata": {
        "id": "u6_u70tryOBn"
      },
      "execution_count": 12,
      "outputs": []
    },
    {
      "cell_type": "code",
      "source": [
        "from tensorflow.keras.callbacks import EarlyStopping, ReduceLROnPlateau, TerminateOnNaN\n",
        "from tensorflow.keras.optimizers import SGD\n",
        "\n",
        "val_split=0.2\n",
        "batch_size=64\n",
        "verbose=1\n",
        "i = 0\n",
        "tf.random.set_seed(i)\n",
        "np.random.seed(i)\n",
        "yt = np.concatenate([data['ys'], data['t']], 1) #we'll use both y and t to compute the loss\n",
        "\n",
        "\n",
        "sgd_callbacks = [\n",
        "        TerminateOnNaN(),\n",
        "        EarlyStopping(monitor='val_loss', patience=40, min_delta=0.), \n",
        "        #40 is Shi's recommendation for this dataset, but you should tune for your data \n",
        "        ReduceLROnPlateau(monitor='loss', factor=0.5, patience=5, verbose=verbose, mode='auto',\n",
        "                          min_delta=0., cooldown=0, min_lr=0),\n",
        "    ]\n",
        "#optimzier hyperparameters\n",
        "sgd_lr = 1e-5\n",
        "momentum = 0.9"
      ],
      "metadata": {
        "id": "XYrYs3yGin30"
      },
      "execution_count": 13,
      "outputs": []
    },
    {
      "cell_type": "code",
      "source": [
        "tarnet_model.compile(optimizer=SGD(learning_rate=sgd_lr, momentum=momentum, nesterov=True),\n",
        "                    loss=regression_loss,\n",
        "                    metrics=regression_loss)\n",
        "\n",
        "tarnet_model.fit(x=data['x'],y=yt,\n",
        "                callbacks=sgd_callbacks,\n",
        "                validation_split=val_split,\n",
        "                epochs=300,\n",
        "                batch_size=batch_size,\n",
        "                verbose=verbose)\n",
        "print(\"DONE!\")"
      ],
      "metadata": {
        "colab": {
          "base_uri": "https://localhost:8080/"
        },
        "id": "vG1F-yA62ARQ",
        "outputId": "f3475372-fc35-49ae-a3d4-71d0c65016f0"
      },
      "execution_count": 14,
      "outputs": [
        {
          "output_type": "stream",
          "name": "stdout",
          "text": [
            "Epoch 1/300\n",
            "10/10 [==============================] - 2s 37ms/step - loss: 61.1126 - regression_loss: 53.9012 - val_loss: 62.4018 - val_regression_loss: 51.1528 - lr: 1.0000e-05\n",
            "Epoch 2/300\n",
            "10/10 [==============================] - 0s 11ms/step - loss: 46.8964 - regression_loss: 41.0067 - val_loss: 51.9019 - val_regression_loss: 42.0427 - lr: 1.0000e-05\n",
            "Epoch 3/300\n",
            "10/10 [==============================] - 0s 7ms/step - loss: 38.2311 - regression_loss: 32.2964 - val_loss: 44.3604 - val_regression_loss: 35.3346 - lr: 1.0000e-05\n",
            "Epoch 4/300\n",
            "10/10 [==============================] - 0s 11ms/step - loss: 32.8349 - regression_loss: 26.9301 - val_loss: 39.6951 - val_regression_loss: 31.1117 - lr: 1.0000e-05\n",
            "Epoch 5/300\n",
            "10/10 [==============================] - 0s 9ms/step - loss: 29.8818 - regression_loss: 23.9095 - val_loss: 35.9659 - val_regression_loss: 27.7492 - lr: 1.0000e-05\n",
            "Epoch 6/300\n",
            "10/10 [==============================] - 0s 10ms/step - loss: 27.3761 - regression_loss: 21.4684 - val_loss: 33.0483 - val_regression_loss: 25.1687 - lr: 1.0000e-05\n",
            "Epoch 7/300\n",
            "10/10 [==============================] - 0s 8ms/step - loss: 24.5048 - regression_loss: 19.5428 - val_loss: 30.7977 - val_regression_loss: 23.1998 - lr: 1.0000e-05\n",
            "Epoch 8/300\n",
            "10/10 [==============================] - 0s 7ms/step - loss: 24.0425 - regression_loss: 18.2767 - val_loss: 29.1751 - val_regression_loss: 21.8074 - lr: 1.0000e-05\n",
            "Epoch 9/300\n",
            "10/10 [==============================] - 0s 8ms/step - loss: 22.8260 - regression_loss: 17.2347 - val_loss: 27.9203 - val_regression_loss: 20.7070 - lr: 1.0000e-05\n",
            "Epoch 10/300\n",
            "10/10 [==============================] - 0s 9ms/step - loss: 22.1222 - regression_loss: 16.5859 - val_loss: 27.0273 - val_regression_loss: 19.9305 - lr: 1.0000e-05\n",
            "Epoch 11/300\n",
            "10/10 [==============================] - 0s 7ms/step - loss: 21.5613 - regression_loss: 16.0483 - val_loss: 26.3914 - val_regression_loss: 19.3996 - lr: 1.0000e-05\n",
            "Epoch 12/300\n",
            "10/10 [==============================] - 0s 7ms/step - loss: 21.1218 - regression_loss: 15.5468 - val_loss: 25.8143 - val_regression_loss: 18.8718 - lr: 1.0000e-05\n",
            "Epoch 13/300\n",
            "10/10 [==============================] - 0s 7ms/step - loss: 20.5318 - regression_loss: 15.1898 - val_loss: 25.4021 - val_regression_loss: 18.5172 - lr: 1.0000e-05\n",
            "Epoch 14/300\n",
            "10/10 [==============================] - 0s 7ms/step - loss: 20.4739 - regression_loss: 14.8644 - val_loss: 24.9795 - val_regression_loss: 18.1522 - lr: 1.0000e-05\n",
            "Epoch 15/300\n",
            "10/10 [==============================] - 0s 11ms/step - loss: 19.8204 - regression_loss: 14.5375 - val_loss: 24.6350 - val_regression_loss: 17.8515 - lr: 1.0000e-05\n",
            "Epoch 16/300\n",
            "10/10 [==============================] - 0s 10ms/step - loss: 19.6831 - regression_loss: 14.3108 - val_loss: 24.3171 - val_regression_loss: 17.5904 - lr: 1.0000e-05\n",
            "Epoch 17/300\n",
            "10/10 [==============================] - 0s 10ms/step - loss: 19.2922 - regression_loss: 14.0325 - val_loss: 24.0017 - val_regression_loss: 17.3024 - lr: 1.0000e-05\n",
            "Epoch 18/300\n",
            "10/10 [==============================] - 0s 9ms/step - loss: 19.1338 - regression_loss: 13.7915 - val_loss: 23.6888 - val_regression_loss: 17.0335 - lr: 1.0000e-05\n",
            "Epoch 19/300\n",
            "10/10 [==============================] - 0s 9ms/step - loss: 19.0892 - regression_loss: 13.5665 - val_loss: 23.4680 - val_regression_loss: 16.8358 - lr: 1.0000e-05\n",
            "Epoch 20/300\n",
            "10/10 [==============================] - 0s 7ms/step - loss: 18.8957 - regression_loss: 13.3853 - val_loss: 23.2295 - val_regression_loss: 16.6255 - lr: 1.0000e-05\n",
            "Epoch 21/300\n",
            "10/10 [==============================] - 0s 9ms/step - loss: 18.5827 - regression_loss: 13.2321 - val_loss: 23.0285 - val_regression_loss: 16.4539 - lr: 1.0000e-05\n",
            "Epoch 22/300\n",
            "10/10 [==============================] - 0s 9ms/step - loss: 18.3309 - regression_loss: 13.1044 - val_loss: 22.8385 - val_regression_loss: 16.2817 - lr: 1.0000e-05\n",
            "Epoch 23/300\n",
            "10/10 [==============================] - 0s 7ms/step - loss: 18.3514 - regression_loss: 12.9223 - val_loss: 22.6571 - val_regression_loss: 16.1182 - lr: 1.0000e-05\n",
            "Epoch 24/300\n",
            "10/10 [==============================] - 0s 9ms/step - loss: 18.0684 - regression_loss: 12.7864 - val_loss: 22.5674 - val_regression_loss: 16.0497 - lr: 1.0000e-05\n",
            "Epoch 25/300\n",
            "10/10 [==============================] - 0s 9ms/step - loss: 17.8081 - regression_loss: 12.6869 - val_loss: 22.4031 - val_regression_loss: 15.9193 - lr: 1.0000e-05\n",
            "Epoch 26/300\n",
            "10/10 [==============================] - 0s 10ms/step - loss: 17.9823 - regression_loss: 12.5612 - val_loss: 22.2314 - val_regression_loss: 15.7512 - lr: 1.0000e-05\n",
            "Epoch 27/300\n",
            "10/10 [==============================] - 0s 9ms/step - loss: 17.7499 - regression_loss: 12.4670 - val_loss: 22.1022 - val_regression_loss: 15.6406 - lr: 1.0000e-05\n",
            "Epoch 28/300\n",
            "10/10 [==============================] - 0s 8ms/step - loss: 17.8881 - regression_loss: 12.4352 - val_loss: 22.0331 - val_regression_loss: 15.5830 - lr: 1.0000e-05\n",
            "Epoch 29/300\n",
            "10/10 [==============================] - 0s 10ms/step - loss: 17.7527 - regression_loss: 12.3385 - val_loss: 21.9515 - val_regression_loss: 15.5212 - lr: 1.0000e-05\n",
            "Epoch 30/300\n",
            "10/10 [==============================] - 0s 9ms/step - loss: 17.7143 - regression_loss: 12.2560 - val_loss: 21.8328 - val_regression_loss: 15.4095 - lr: 1.0000e-05\n",
            "Epoch 31/300\n",
            "10/10 [==============================] - 0s 9ms/step - loss: 17.5992 - regression_loss: 12.1858 - val_loss: 21.7271 - val_regression_loss: 15.3159 - lr: 1.0000e-05\n",
            "Epoch 32/300\n",
            "10/10 [==============================] - 0s 9ms/step - loss: 17.4838 - regression_loss: 12.1229 - val_loss: 21.7419 - val_regression_loss: 15.3327 - lr: 1.0000e-05\n",
            "Epoch 33/300\n",
            "10/10 [==============================] - 0s 8ms/step - loss: 17.5058 - regression_loss: 12.1087 - val_loss: 21.6148 - val_regression_loss: 15.2160 - lr: 1.0000e-05\n",
            "Epoch 34/300\n",
            "10/10 [==============================] - 0s 9ms/step - loss: 17.2505 - regression_loss: 11.9956 - val_loss: 21.5882 - val_regression_loss: 15.1905 - lr: 1.0000e-05\n",
            "Epoch 35/300\n",
            "10/10 [==============================] - 0s 7ms/step - loss: 17.2553 - regression_loss: 11.9444 - val_loss: 21.4985 - val_regression_loss: 15.1145 - lr: 1.0000e-05\n",
            "Epoch 36/300\n",
            "10/10 [==============================] - 0s 9ms/step - loss: 17.2228 - regression_loss: 11.9573 - val_loss: 21.4243 - val_regression_loss: 15.0342 - lr: 1.0000e-05\n",
            "Epoch 37/300\n",
            "10/10 [==============================] - 0s 8ms/step - loss: 17.1860 - regression_loss: 11.8666 - val_loss: 21.4041 - val_regression_loss: 15.0200 - lr: 1.0000e-05\n",
            "Epoch 38/300\n",
            "10/10 [==============================] - 0s 9ms/step - loss: 17.1835 - regression_loss: 11.8386 - val_loss: 21.3525 - val_regression_loss: 14.9875 - lr: 1.0000e-05\n",
            "Epoch 39/300\n",
            "10/10 [==============================] - 0s 9ms/step - loss: 17.1681 - regression_loss: 11.7979 - val_loss: 21.2825 - val_regression_loss: 14.9183 - lr: 1.0000e-05\n",
            "Epoch 40/300\n",
            "10/10 [==============================] - 0s 8ms/step - loss: 17.1591 - regression_loss: 11.8076 - val_loss: 21.2399 - val_regression_loss: 14.8794 - lr: 1.0000e-05\n",
            "Epoch 41/300\n",
            "10/10 [==============================] - 0s 9ms/step - loss: 17.1993 - regression_loss: 11.7540 - val_loss: 21.1910 - val_regression_loss: 14.8328 - lr: 1.0000e-05\n",
            "Epoch 42/300\n",
            "10/10 [==============================] - 0s 8ms/step - loss: 17.0095 - regression_loss: 11.7258 - val_loss: 21.1727 - val_regression_loss: 14.8224 - lr: 1.0000e-05\n",
            "Epoch 43/300\n",
            "10/10 [==============================] - 0s 9ms/step - loss: 16.8359 - regression_loss: 11.6862 - val_loss: 21.0931 - val_regression_loss: 14.7451 - lr: 1.0000e-05\n",
            "Epoch 44/300\n",
            "10/10 [==============================] - 0s 8ms/step - loss: 16.9513 - regression_loss: 11.6694 - val_loss: 21.0455 - val_regression_loss: 14.7052 - lr: 1.0000e-05\n",
            "Epoch 45/300\n",
            "10/10 [==============================] - 0s 9ms/step - loss: 16.7766 - regression_loss: 11.5995 - val_loss: 21.0223 - val_regression_loss: 14.6887 - lr: 1.0000e-05\n",
            "Epoch 46/300\n",
            "10/10 [==============================] - 0s 8ms/step - loss: 16.9879 - regression_loss: 11.6336 - val_loss: 21.0194 - val_regression_loss: 14.6957 - lr: 1.0000e-05\n",
            "Epoch 47/300\n",
            "10/10 [==============================] - 0s 9ms/step - loss: 16.7889 - regression_loss: 11.5483 - val_loss: 20.9841 - val_regression_loss: 14.6577 - lr: 1.0000e-05\n",
            "Epoch 48/300\n",
            "10/10 [==============================] - 0s 10ms/step - loss: 16.8079 - regression_loss: 11.5325 - val_loss: 20.8989 - val_regression_loss: 14.5734 - lr: 1.0000e-05\n",
            "Epoch 49/300\n",
            "10/10 [==============================] - 0s 9ms/step - loss: 16.8991 - regression_loss: 11.4900 - val_loss: 20.8312 - val_regression_loss: 14.5199 - lr: 1.0000e-05\n",
            "Epoch 50/300\n",
            " 1/10 [==>...........................] - ETA: 0s - loss: 12.4353 - regression_loss: 7.6833\n",
            "Epoch 50: ReduceLROnPlateau reducing learning rate to 4.999999873689376e-06.\n",
            "10/10 [==============================] - 0s 8ms/step - loss: 16.9323 - regression_loss: 11.4950 - val_loss: 20.8182 - val_regression_loss: 14.5071 - lr: 1.0000e-05\n",
            "Epoch 51/300\n",
            "10/10 [==============================] - 0s 8ms/step - loss: 16.8618 - regression_loss: 11.4484 - val_loss: 20.8242 - val_regression_loss: 14.5187 - lr: 5.0000e-06\n",
            "Epoch 52/300\n",
            "10/10 [==============================] - 0s 7ms/step - loss: 16.6357 - regression_loss: 11.4159 - val_loss: 20.7616 - val_regression_loss: 14.4615 - lr: 5.0000e-06\n",
            "Epoch 53/300\n",
            "10/10 [==============================] - 0s 9ms/step - loss: 16.6879 - regression_loss: 11.4159 - val_loss: 20.7102 - val_regression_loss: 14.4161 - lr: 5.0000e-06\n",
            "Epoch 54/300\n",
            "10/10 [==============================] - 0s 8ms/step - loss: 16.6798 - regression_loss: 11.3990 - val_loss: 20.6980 - val_regression_loss: 14.4068 - lr: 5.0000e-06\n",
            "Epoch 55/300\n",
            "10/10 [==============================] - 0s 10ms/step - loss: 16.7402 - regression_loss: 11.3598 - val_loss: 20.6946 - val_regression_loss: 14.4005 - lr: 5.0000e-06\n",
            "Epoch 56/300\n",
            "10/10 [==============================] - 0s 9ms/step - loss: 16.6190 - regression_loss: 11.3658 - val_loss: 20.6714 - val_regression_loss: 14.3809 - lr: 5.0000e-06\n",
            "Epoch 57/300\n",
            "10/10 [==============================] - 0s 9ms/step - loss: 16.7160 - regression_loss: 11.3670 - val_loss: 20.6675 - val_regression_loss: 14.3767 - lr: 5.0000e-06\n",
            "Epoch 58/300\n",
            "10/10 [==============================] - 0s 7ms/step - loss: 16.5737 - regression_loss: 11.3703 - val_loss: 20.6657 - val_regression_loss: 14.3793 - lr: 5.0000e-06\n",
            "Epoch 59/300\n",
            "10/10 [==============================] - 0s 12ms/step - loss: 16.4881 - regression_loss: 11.3359 - val_loss: 20.6188 - val_regression_loss: 14.3333 - lr: 5.0000e-06\n",
            "Epoch 60/300\n",
            "10/10 [==============================] - 0s 9ms/step - loss: 16.7290 - regression_loss: 11.3071 - val_loss: 20.5885 - val_regression_loss: 14.3040 - lr: 5.0000e-06\n",
            "Epoch 61/300\n",
            "10/10 [==============================] - 0s 8ms/step - loss: 16.5340 - regression_loss: 11.3046 - val_loss: 20.5742 - val_regression_loss: 14.2926 - lr: 5.0000e-06\n",
            "Epoch 62/300\n",
            "10/10 [==============================] - 0s 7ms/step - loss: 16.5576 - regression_loss: 11.2967 - val_loss: 20.5691 - val_regression_loss: 14.2891 - lr: 5.0000e-06\n",
            "Epoch 63/300\n",
            "10/10 [==============================] - 0s 7ms/step - loss: 16.6939 - regression_loss: 11.3195 - val_loss: 20.5539 - val_regression_loss: 14.2802 - lr: 5.0000e-06\n",
            "Epoch 64/300\n",
            "10/10 [==============================] - 0s 8ms/step - loss: 16.4793 - regression_loss: 11.2638 - val_loss: 20.5304 - val_regression_loss: 14.2525 - lr: 5.0000e-06\n",
            "Epoch 65/300\n",
            "10/10 [==============================] - 0s 9ms/step - loss: 16.4759 - regression_loss: 11.2806 - val_loss: 20.5032 - val_regression_loss: 14.2334 - lr: 5.0000e-06\n",
            "Epoch 66/300\n",
            "10/10 [==============================] - 0s 9ms/step - loss: 16.4652 - regression_loss: 11.2548 - val_loss: 20.4577 - val_regression_loss: 14.1933 - lr: 5.0000e-06\n",
            "Epoch 67/300\n",
            "10/10 [==============================] - 0s 9ms/step - loss: 16.5982 - regression_loss: 11.2462 - val_loss: 20.4714 - val_regression_loss: 14.2055 - lr: 5.0000e-06\n",
            "Epoch 68/300\n",
            "10/10 [==============================] - 0s 9ms/step - loss: 16.4164 - regression_loss: 11.2456 - val_loss: 20.4538 - val_regression_loss: 14.1879 - lr: 5.0000e-06\n",
            "Epoch 69/300\n",
            "10/10 [==============================] - 0s 7ms/step - loss: 16.4819 - regression_loss: 11.2247 - val_loss: 20.4382 - val_regression_loss: 14.1782 - lr: 5.0000e-06\n",
            "Epoch 70/300\n",
            "10/10 [==============================] - 0s 7ms/step - loss: 16.4672 - regression_loss: 11.2305 - val_loss: 20.4303 - val_regression_loss: 14.1712 - lr: 5.0000e-06\n",
            "Epoch 71/300\n",
            "10/10 [==============================] - 0s 8ms/step - loss: 16.5034 - regression_loss: 11.1904 - val_loss: 20.4002 - val_regression_loss: 14.1431 - lr: 5.0000e-06\n",
            "Epoch 72/300\n",
            "10/10 [==============================] - 0s 11ms/step - loss: 16.3659 - regression_loss: 11.1933 - val_loss: 20.3750 - val_regression_loss: 14.1186 - lr: 5.0000e-06\n",
            "Epoch 73/300\n",
            "10/10 [==============================] - 0s 9ms/step - loss: 16.4081 - regression_loss: 11.1772 - val_loss: 20.3313 - val_regression_loss: 14.0772 - lr: 5.0000e-06\n",
            "Epoch 74/300\n",
            "10/10 [==============================] - 0s 9ms/step - loss: 16.4423 - regression_loss: 11.1605 - val_loss: 20.3245 - val_regression_loss: 14.0740 - lr: 5.0000e-06\n",
            "Epoch 75/300\n",
            "10/10 [==============================] - 0s 9ms/step - loss: 16.4097 - regression_loss: 11.1792 - val_loss: 20.3063 - val_regression_loss: 14.0584 - lr: 5.0000e-06\n",
            "Epoch 76/300\n",
            "10/10 [==============================] - 0s 7ms/step - loss: 16.2932 - regression_loss: 11.1437 - val_loss: 20.2973 - val_regression_loss: 14.0514 - lr: 5.0000e-06\n",
            "Epoch 77/300\n",
            "10/10 [==============================] - 0s 8ms/step - loss: 16.5261 - regression_loss: 11.1404 - val_loss: 20.3037 - val_regression_loss: 14.0549 - lr: 5.0000e-06\n",
            "Epoch 78/300\n",
            "10/10 [==============================] - 0s 9ms/step - loss: 16.2804 - regression_loss: 11.1215 - val_loss: 20.2898 - val_regression_loss: 14.0443 - lr: 5.0000e-06\n",
            "Epoch 79/300\n",
            "10/10 [==============================] - 0s 7ms/step - loss: 16.4366 - regression_loss: 11.1264 - val_loss: 20.2664 - val_regression_loss: 14.0260 - lr: 5.0000e-06\n",
            "Epoch 80/300\n",
            "10/10 [==============================] - 0s 9ms/step - loss: 16.2472 - regression_loss: 11.1079 - val_loss: 20.2587 - val_regression_loss: 14.0203 - lr: 5.0000e-06\n",
            "Epoch 81/300\n",
            "10/10 [==============================] - 0s 10ms/step - loss: 16.3739 - regression_loss: 11.0880 - val_loss: 20.2027 - val_regression_loss: 13.9678 - lr: 5.0000e-06\n",
            "Epoch 82/300\n",
            "10/10 [==============================] - 0s 7ms/step - loss: 16.1130 - regression_loss: 11.0860 - val_loss: 20.1938 - val_regression_loss: 13.9628 - lr: 5.0000e-06\n",
            "Epoch 83/300\n",
            "10/10 [==============================] - 0s 10ms/step - loss: 16.4002 - regression_loss: 11.0716 - val_loss: 20.1754 - val_regression_loss: 13.9460 - lr: 5.0000e-06\n",
            "Epoch 84/300\n",
            "10/10 [==============================] - 0s 7ms/step - loss: 16.2961 - regression_loss: 11.0690 - val_loss: 20.1781 - val_regression_loss: 13.9513 - lr: 5.0000e-06\n",
            "Epoch 85/300\n",
            "10/10 [==============================] - 0s 9ms/step - loss: 16.3554 - regression_loss: 11.0719 - val_loss: 20.1482 - val_regression_loss: 13.9237 - lr: 5.0000e-06\n",
            "Epoch 86/300\n",
            "10/10 [==============================] - 0s 8ms/step - loss: 16.4109 - regression_loss: 11.0434 - val_loss: 20.1327 - val_regression_loss: 13.9110 - lr: 5.0000e-06\n",
            "Epoch 87/300\n",
            "10/10 [==============================] - ETA: 0s - loss: 16.3472 - regression_loss: 11.0555\n",
            "Epoch 87: ReduceLROnPlateau reducing learning rate to 2.499999936844688e-06.\n",
            "10/10 [==============================] - 0s 10ms/step - loss: 16.3472 - regression_loss: 11.0555 - val_loss: 20.1307 - val_regression_loss: 13.9087 - lr: 5.0000e-06\n",
            "Epoch 88/300\n",
            "10/10 [==============================] - 0s 8ms/step - loss: 16.3784 - regression_loss: 11.0154 - val_loss: 20.0858 - val_regression_loss: 13.8670 - lr: 2.5000e-06\n",
            "Epoch 89/300\n",
            "10/10 [==============================] - 0s 9ms/step - loss: 16.2871 - regression_loss: 11.0082 - val_loss: 20.0681 - val_regression_loss: 13.8519 - lr: 2.5000e-06\n",
            "Epoch 90/300\n",
            "10/10 [==============================] - 0s 11ms/step - loss: 16.1635 - regression_loss: 11.0120 - val_loss: 20.0666 - val_regression_loss: 13.8502 - lr: 2.5000e-06\n",
            "Epoch 91/300\n",
            "10/10 [==============================] - 0s 8ms/step - loss: 16.2768 - regression_loss: 11.0006 - val_loss: 20.0516 - val_regression_loss: 13.8369 - lr: 2.5000e-06\n",
            "Epoch 92/300\n",
            " 1/10 [==>...........................] - ETA: 0s - loss: 14.1306 - regression_loss: 9.3817\n",
            "Epoch 92: ReduceLROnPlateau reducing learning rate to 1.249999968422344e-06.\n",
            "10/10 [==============================] - 0s 8ms/step - loss: 16.1717 - regression_loss: 10.9971 - val_loss: 20.0417 - val_regression_loss: 13.8285 - lr: 2.5000e-06\n",
            "Epoch 93/300\n",
            "10/10 [==============================] - 0s 9ms/step - loss: 16.2279 - regression_loss: 10.9799 - val_loss: 20.0445 - val_regression_loss: 13.8326 - lr: 1.2500e-06\n",
            "Epoch 94/300\n",
            "10/10 [==============================] - 0s 11ms/step - loss: 16.2217 - regression_loss: 10.9808 - val_loss: 20.0465 - val_regression_loss: 13.8343 - lr: 1.2500e-06\n",
            "Epoch 95/300\n",
            "10/10 [==============================] - 0s 9ms/step - loss: 16.3108 - regression_loss: 10.9766 - val_loss: 20.0470 - val_regression_loss: 13.8355 - lr: 1.2500e-06\n",
            "Epoch 96/300\n",
            "10/10 [==============================] - 0s 9ms/step - loss: 16.1593 - regression_loss: 10.9743 - val_loss: 20.0345 - val_regression_loss: 13.8235 - lr: 1.2500e-06\n",
            "Epoch 97/300\n",
            " 1/10 [==>...........................] - ETA: 0s - loss: 16.7812 - regression_loss: 12.0325\n",
            "Epoch 97: ReduceLROnPlateau reducing learning rate to 6.24999984211172e-07.\n",
            "10/10 [==============================] - 0s 8ms/step - loss: 16.2712 - regression_loss: 10.9756 - val_loss: 20.0375 - val_regression_loss: 13.8272 - lr: 1.2500e-06\n",
            "Epoch 98/300\n",
            "10/10 [==============================] - 0s 8ms/step - loss: 16.1953 - regression_loss: 10.9674 - val_loss: 20.0283 - val_regression_loss: 13.8191 - lr: 6.2500e-07\n",
            "Epoch 99/300\n",
            "10/10 [==============================] - 0s 8ms/step - loss: 16.2556 - regression_loss: 10.9696 - val_loss: 20.0228 - val_regression_loss: 13.8133 - lr: 6.2500e-07\n",
            "Epoch 100/300\n",
            "10/10 [==============================] - 0s 10ms/step - loss: 16.2667 - regression_loss: 10.9642 - val_loss: 20.0223 - val_regression_loss: 13.8136 - lr: 6.2500e-07\n",
            "Epoch 101/300\n",
            "10/10 [==============================] - 0s 7ms/step - loss: 16.1699 - regression_loss: 10.9639 - val_loss: 20.0206 - val_regression_loss: 13.8124 - lr: 6.2500e-07\n",
            "Epoch 102/300\n",
            " 1/10 [==>...........................] - ETA: 0s - loss: 13.4409 - regression_loss: 8.6922\n",
            "Epoch 102: ReduceLROnPlateau reducing learning rate to 3.12499992105586e-07.\n",
            "10/10 [==============================] - 0s 8ms/step - loss: 16.2590 - regression_loss: 10.9614 - val_loss: 20.0218 - val_regression_loss: 13.8139 - lr: 6.2500e-07\n",
            "Epoch 103/300\n",
            "10/10 [==============================] - 0s 9ms/step - loss: 16.1930 - regression_loss: 10.9578 - val_loss: 20.0189 - val_regression_loss: 13.8110 - lr: 3.1250e-07\n",
            "Epoch 104/300\n",
            "10/10 [==============================] - 0s 10ms/step - loss: 16.2529 - regression_loss: 10.9571 - val_loss: 20.0158 - val_regression_loss: 13.8082 - lr: 3.1250e-07\n",
            "Epoch 105/300\n",
            "10/10 [==============================] - 0s 8ms/step - loss: 16.2509 - regression_loss: 10.9563 - val_loss: 20.0149 - val_regression_loss: 13.8073 - lr: 3.1250e-07\n",
            "Epoch 106/300\n",
            "10/10 [==============================] - 0s 9ms/step - loss: 15.9876 - regression_loss: 10.9562 - val_loss: 20.0142 - val_regression_loss: 13.8067 - lr: 3.1250e-07\n",
            "Epoch 107/300\n",
            "10/10 [==============================] - 0s 10ms/step - loss: 16.1903 - regression_loss: 10.9562 - val_loss: 20.0129 - val_regression_loss: 13.8056 - lr: 3.1250e-07\n",
            "Epoch 108/300\n",
            "10/10 [==============================] - 0s 9ms/step - loss: 16.1631 - regression_loss: 10.9579 - val_loss: 20.0110 - val_regression_loss: 13.8037 - lr: 3.1250e-07\n",
            "Epoch 109/300\n",
            "10/10 [==============================] - 0s 9ms/step - loss: 16.2924 - regression_loss: 10.9548 - val_loss: 20.0098 - val_regression_loss: 13.8030 - lr: 3.1250e-07\n",
            "Epoch 110/300\n",
            "10/10 [==============================] - 0s 9ms/step - loss: 16.3039 - regression_loss: 10.9537 - val_loss: 20.0084 - val_regression_loss: 13.8015 - lr: 3.1250e-07\n",
            "Epoch 111/300\n",
            "10/10 [==============================] - 0s 9ms/step - loss: 15.9674 - regression_loss: 10.9541 - val_loss: 20.0071 - val_regression_loss: 13.8004 - lr: 3.1250e-07\n",
            "Epoch 112/300\n",
            "10/10 [==============================] - 0s 10ms/step - loss: 16.0344 - regression_loss: 10.9538 - val_loss: 20.0080 - val_regression_loss: 13.8015 - lr: 3.1250e-07\n",
            "Epoch 113/300\n",
            "10/10 [==============================] - 0s 9ms/step - loss: 16.0407 - regression_loss: 10.9523 - val_loss: 20.0077 - val_regression_loss: 13.8013 - lr: 3.1250e-07\n",
            "Epoch 114/300\n",
            "10/10 [==============================] - 0s 11ms/step - loss: 16.2074 - regression_loss: 10.9516 - val_loss: 20.0052 - val_regression_loss: 13.7989 - lr: 3.1250e-07\n",
            "Epoch 115/300\n",
            "10/10 [==============================] - 0s 9ms/step - loss: 16.0539 - regression_loss: 10.9517 - val_loss: 20.0038 - val_regression_loss: 13.7976 - lr: 3.1250e-07\n",
            "Epoch 116/300\n",
            " 1/10 [==>...........................] - ETA: 0s - loss: 14.5854 - regression_loss: 9.8368\n",
            "Epoch 116: ReduceLROnPlateau reducing learning rate to 1.56249996052793e-07.\n",
            "10/10 [==============================] - 0s 10ms/step - loss: 16.0960 - regression_loss: 10.9505 - val_loss: 20.0030 - val_regression_loss: 13.7970 - lr: 3.1250e-07\n",
            "Epoch 117/300\n",
            "10/10 [==============================] - 0s 8ms/step - loss: 16.2442 - regression_loss: 10.9495 - val_loss: 20.0018 - val_regression_loss: 13.7960 - lr: 1.5625e-07\n",
            "Epoch 118/300\n",
            "10/10 [==============================] - 0s 8ms/step - loss: 16.3400 - regression_loss: 10.9487 - val_loss: 20.0016 - val_regression_loss: 13.7958 - lr: 1.5625e-07\n",
            "Epoch 119/300\n",
            "10/10 [==============================] - 0s 9ms/step - loss: 16.1051 - regression_loss: 10.9486 - val_loss: 20.0008 - val_regression_loss: 13.7950 - lr: 1.5625e-07\n",
            "Epoch 120/300\n",
            "10/10 [==============================] - 0s 7ms/step - loss: 16.2020 - regression_loss: 10.9482 - val_loss: 20.0000 - val_regression_loss: 13.7943 - lr: 1.5625e-07\n",
            "Epoch 121/300\n",
            " 1/10 [==>...........................] - ETA: 0s - loss: 19.5552 - regression_loss: 14.8067\n",
            "Epoch 121: ReduceLROnPlateau reducing learning rate to 7.81249980263965e-08.\n",
            "10/10 [==============================] - 0s 9ms/step - loss: 16.2860 - regression_loss: 10.9477 - val_loss: 20.0000 - val_regression_loss: 13.7942 - lr: 1.5625e-07\n",
            "Epoch 122/300\n",
            "10/10 [==============================] - 0s 11ms/step - loss: 16.2450 - regression_loss: 10.9473 - val_loss: 20.0000 - val_regression_loss: 13.7943 - lr: 7.8125e-08\n",
            "Epoch 123/300\n",
            "10/10 [==============================] - 0s 9ms/step - loss: 16.1929 - regression_loss: 10.9469 - val_loss: 19.9994 - val_regression_loss: 13.7939 - lr: 7.8125e-08\n",
            "Epoch 124/300\n",
            "10/10 [==============================] - 0s 13ms/step - loss: 16.2468 - regression_loss: 10.9467 - val_loss: 19.9993 - val_regression_loss: 13.7938 - lr: 7.8125e-08\n",
            "Epoch 125/300\n",
            "10/10 [==============================] - 0s 8ms/step - loss: 16.2941 - regression_loss: 10.9466 - val_loss: 19.9990 - val_regression_loss: 13.7936 - lr: 7.8125e-08\n",
            "Epoch 126/300\n",
            " 1/10 [==>...........................] - ETA: 0s - loss: 16.9812 - regression_loss: 12.2327\n",
            "Epoch 126: ReduceLROnPlateau reducing learning rate to 3.906249901319825e-08.\n",
            "10/10 [==============================] - 0s 8ms/step - loss: 16.2341 - regression_loss: 10.9466 - val_loss: 19.9989 - val_regression_loss: 13.7935 - lr: 7.8125e-08\n",
            "Epoch 127/300\n",
            "10/10 [==============================] - 0s 10ms/step - loss: 16.2354 - regression_loss: 10.9462 - val_loss: 19.9985 - val_regression_loss: 13.7931 - lr: 3.9062e-08\n",
            "Epoch 128/300\n",
            "10/10 [==============================] - 0s 7ms/step - loss: 16.2475 - regression_loss: 10.9461 - val_loss: 19.9981 - val_regression_loss: 13.7928 - lr: 3.9062e-08\n",
            "Epoch 129/300\n",
            "10/10 [==============================] - 0s 8ms/step - loss: 16.1404 - regression_loss: 10.9462 - val_loss: 19.9982 - val_regression_loss: 13.7929 - lr: 3.9062e-08\n",
            "Epoch 130/300\n",
            "10/10 [==============================] - 0s 8ms/step - loss: 16.2924 - regression_loss: 10.9459 - val_loss: 19.9980 - val_regression_loss: 13.7927 - lr: 3.9062e-08\n",
            "Epoch 131/300\n",
            " 1/10 [==>...........................] - ETA: 0s - loss: 15.1806 - regression_loss: 10.4321\n",
            "Epoch 131: ReduceLROnPlateau reducing learning rate to 1.9531249506599124e-08.\n",
            "10/10 [==============================] - 0s 8ms/step - loss: 16.1448 - regression_loss: 10.9459 - val_loss: 19.9977 - val_regression_loss: 13.7924 - lr: 3.9062e-08\n",
            "Epoch 132/300\n",
            "10/10 [==============================] - 0s 8ms/step - loss: 16.2552 - regression_loss: 10.9457 - val_loss: 19.9977 - val_regression_loss: 13.7924 - lr: 1.9531e-08\n",
            "Epoch 133/300\n",
            "10/10 [==============================] - 0s 11ms/step - loss: 16.1591 - regression_loss: 10.9457 - val_loss: 19.9976 - val_regression_loss: 13.7923 - lr: 1.9531e-08\n",
            "Epoch 134/300\n",
            "10/10 [==============================] - 0s 8ms/step - loss: 16.1112 - regression_loss: 10.9457 - val_loss: 19.9976 - val_regression_loss: 13.7923 - lr: 1.9531e-08\n",
            "Epoch 135/300\n",
            "10/10 [==============================] - 0s 12ms/step - loss: 16.2499 - regression_loss: 10.9456 - val_loss: 19.9976 - val_regression_loss: 13.7924 - lr: 1.9531e-08\n",
            "Epoch 136/300\n",
            " 1/10 [==>...........................] - ETA: 0s - loss: 15.1076 - regression_loss: 10.3591\n",
            "Epoch 136: ReduceLROnPlateau reducing learning rate to 9.765624753299562e-09.\n",
            "10/10 [==============================] - 0s 8ms/step - loss: 16.1576 - regression_loss: 10.9455 - val_loss: 19.9976 - val_regression_loss: 13.7923 - lr: 1.9531e-08\n",
            "Epoch 137/300\n",
            "10/10 [==============================] - 0s 9ms/step - loss: 16.2331 - regression_loss: 10.9455 - val_loss: 19.9975 - val_regression_loss: 13.7922 - lr: 9.7656e-09\n",
            "Epoch 138/300\n",
            "10/10 [==============================] - 0s 9ms/step - loss: 16.1748 - regression_loss: 10.9455 - val_loss: 19.9974 - val_regression_loss: 13.7921 - lr: 9.7656e-09\n",
            "Epoch 139/300\n",
            "10/10 [==============================] - 0s 8ms/step - loss: 16.2595 - regression_loss: 10.9454 - val_loss: 19.9974 - val_regression_loss: 13.7921 - lr: 9.7656e-09\n",
            "Epoch 140/300\n",
            "10/10 [==============================] - 0s 10ms/step - loss: 16.0077 - regression_loss: 10.9454 - val_loss: 19.9973 - val_regression_loss: 13.7921 - lr: 9.7656e-09\n",
            "Epoch 141/300\n",
            " 9/10 [==========================>...] - ETA: 0s - loss: 16.3673 - regression_loss: 11.6188\n",
            "Epoch 141: ReduceLROnPlateau reducing learning rate to 4.882812376649781e-09.\n",
            "10/10 [==============================] - 0s 10ms/step - loss: 16.1304 - regression_loss: 10.9454 - val_loss: 19.9973 - val_regression_loss: 13.7921 - lr: 9.7656e-09\n",
            "Epoch 142/300\n",
            "10/10 [==============================] - 0s 10ms/step - loss: 16.0597 - regression_loss: 10.9453 - val_loss: 19.9973 - val_regression_loss: 13.7921 - lr: 4.8828e-09\n",
            "Epoch 143/300\n",
            "10/10 [==============================] - 0s 9ms/step - loss: 16.3623 - regression_loss: 10.9454 - val_loss: 19.9973 - val_regression_loss: 13.7920 - lr: 4.8828e-09\n",
            "Epoch 144/300\n",
            "10/10 [==============================] - 0s 10ms/step - loss: 16.0153 - regression_loss: 10.9453 - val_loss: 19.9973 - val_regression_loss: 13.7920 - lr: 4.8828e-09\n",
            "Epoch 145/300\n",
            "10/10 [==============================] - 0s 10ms/step - loss: 16.2002 - regression_loss: 10.9454 - val_loss: 19.9972 - val_regression_loss: 13.7920 - lr: 4.8828e-09\n",
            "Epoch 146/300\n",
            " 9/10 [==========================>...] - ETA: 0s - loss: 16.4757 - regression_loss: 11.7271\n",
            "Epoch 146: ReduceLROnPlateau reducing learning rate to 2.4414061883248905e-09.\n",
            "10/10 [==============================] - 0s 11ms/step - loss: 16.2007 - regression_loss: 10.9453 - val_loss: 19.9972 - val_regression_loss: 13.7920 - lr: 4.8828e-09\n",
            "Epoch 147/300\n",
            "10/10 [==============================] - 0s 7ms/step - loss: 16.1283 - regression_loss: 10.9453 - val_loss: 19.9972 - val_regression_loss: 13.7920 - lr: 2.4414e-09\n",
            "Epoch 148/300\n",
            "10/10 [==============================] - 0s 8ms/step - loss: 16.0911 - regression_loss: 10.9453 - val_loss: 19.9972 - val_regression_loss: 13.7920 - lr: 2.4414e-09\n",
            "Epoch 149/300\n",
            "10/10 [==============================] - 0s 8ms/step - loss: 15.9640 - regression_loss: 10.9453 - val_loss: 19.9972 - val_regression_loss: 13.7920 - lr: 2.4414e-09\n",
            "Epoch 150/300\n",
            "10/10 [==============================] - 0s 8ms/step - loss: 16.1701 - regression_loss: 10.9453 - val_loss: 19.9972 - val_regression_loss: 13.7920 - lr: 2.4414e-09\n",
            "Epoch 151/300\n",
            "10/10 [==============================] - 0s 8ms/step - loss: 16.2590 - regression_loss: 10.9453 - val_loss: 19.9972 - val_regression_loss: 13.7920 - lr: 2.4414e-09\n",
            "Epoch 152/300\n",
            "10/10 [==============================] - 0s 8ms/step - loss: 16.1061 - regression_loss: 10.9453 - val_loss: 19.9972 - val_regression_loss: 13.7920 - lr: 2.4414e-09\n",
            "Epoch 153/300\n",
            "10/10 [==============================] - 0s 8ms/step - loss: 16.0576 - regression_loss: 10.9453 - val_loss: 19.9972 - val_regression_loss: 13.7920 - lr: 2.4414e-09\n",
            "Epoch 154/300\n",
            " 1/10 [==>...........................] - ETA: 0s - loss: 17.8665 - regression_loss: 13.1180\n",
            "Epoch 154: ReduceLROnPlateau reducing learning rate to 1.2207030941624453e-09.\n",
            "10/10 [==============================] - 0s 8ms/step - loss: 16.2554 - regression_loss: 10.9453 - val_loss: 19.9972 - val_regression_loss: 13.7920 - lr: 2.4414e-09\n",
            "Epoch 155/300\n",
            "10/10 [==============================] - 0s 10ms/step - loss: 16.2063 - regression_loss: 10.9453 - val_loss: 19.9972 - val_regression_loss: 13.7920 - lr: 1.2207e-09\n",
            "Epoch 156/300\n",
            "10/10 [==============================] - 0s 9ms/step - loss: 16.0046 - regression_loss: 10.9453 - val_loss: 19.9972 - val_regression_loss: 13.7920 - lr: 1.2207e-09\n",
            "Epoch 157/300\n",
            "10/10 [==============================] - 0s 9ms/step - loss: 16.1828 - regression_loss: 10.9453 - val_loss: 19.9972 - val_regression_loss: 13.7920 - lr: 1.2207e-09\n",
            "Epoch 158/300\n",
            "10/10 [==============================] - 0s 9ms/step - loss: 16.2216 - regression_loss: 10.9453 - val_loss: 19.9972 - val_regression_loss: 13.7920 - lr: 1.2207e-09\n",
            "Epoch 159/300\n",
            " 9/10 [==========================>...] - ETA: 0s - loss: 16.3662 - regression_loss: 11.6177\n",
            "Epoch 159: ReduceLROnPlateau reducing learning rate to 6.103515470812226e-10.\n",
            "10/10 [==============================] - 0s 10ms/step - loss: 16.1297 - regression_loss: 10.9453 - val_loss: 19.9972 - val_regression_loss: 13.7920 - lr: 1.2207e-09\n",
            "Epoch 160/300\n",
            "10/10 [==============================] - 0s 9ms/step - loss: 16.2635 - regression_loss: 10.9453 - val_loss: 19.9972 - val_regression_loss: 13.7920 - lr: 6.1035e-10\n",
            "Epoch 161/300\n",
            "10/10 [==============================] - 0s 8ms/step - loss: 16.1153 - regression_loss: 10.9453 - val_loss: 19.9972 - val_regression_loss: 13.7920 - lr: 6.1035e-10\n",
            "Epoch 162/300\n",
            "10/10 [==============================] - 0s 7ms/step - loss: 16.2482 - regression_loss: 10.9453 - val_loss: 19.9972 - val_regression_loss: 13.7920 - lr: 6.1035e-10\n",
            "Epoch 163/300\n",
            "10/10 [==============================] - 0s 7ms/step - loss: 16.2601 - regression_loss: 10.9453 - val_loss: 19.9972 - val_regression_loss: 13.7920 - lr: 6.1035e-10\n",
            "Epoch 164/300\n",
            " 1/10 [==>...........................] - ETA: 0s - loss: 15.7650 - regression_loss: 11.0165\n",
            "Epoch 164: ReduceLROnPlateau reducing learning rate to 3.051757735406113e-10.\n",
            "10/10 [==============================] - 0s 10ms/step - loss: 16.0596 - regression_loss: 10.9453 - val_loss: 19.9972 - val_regression_loss: 13.7920 - lr: 6.1035e-10\n",
            "Epoch 165/300\n",
            "10/10 [==============================] - 0s 9ms/step - loss: 16.1907 - regression_loss: 10.9453 - val_loss: 19.9972 - val_regression_loss: 13.7920 - lr: 3.0518e-10\n",
            "Epoch 166/300\n",
            "10/10 [==============================] - 0s 9ms/step - loss: 16.2472 - regression_loss: 10.9453 - val_loss: 19.9972 - val_regression_loss: 13.7920 - lr: 3.0518e-10\n",
            "Epoch 167/300\n",
            "10/10 [==============================] - 0s 12ms/step - loss: 16.2497 - regression_loss: 10.9453 - val_loss: 19.9972 - val_regression_loss: 13.7920 - lr: 3.0518e-10\n",
            "Epoch 168/300\n",
            "10/10 [==============================] - 0s 10ms/step - loss: 16.2819 - regression_loss: 10.9453 - val_loss: 19.9972 - val_regression_loss: 13.7920 - lr: 3.0518e-10\n",
            "Epoch 169/300\n",
            " 1/10 [==>...........................] - ETA: 0s - loss: 13.7860 - regression_loss: 9.0375\n",
            "Epoch 169: ReduceLROnPlateau reducing learning rate to 1.5258788677030566e-10.\n",
            "10/10 [==============================] - 0s 10ms/step - loss: 16.1456 - regression_loss: 10.9453 - val_loss: 19.9972 - val_regression_loss: 13.7920 - lr: 3.0518e-10\n",
            "Epoch 170/300\n",
            "10/10 [==============================] - 0s 9ms/step - loss: 16.2052 - regression_loss: 10.9453 - val_loss: 19.9972 - val_regression_loss: 13.7920 - lr: 1.5259e-10\n",
            "Epoch 171/300\n",
            "10/10 [==============================] - 0s 9ms/step - loss: 16.0777 - regression_loss: 10.9453 - val_loss: 19.9972 - val_regression_loss: 13.7920 - lr: 1.5259e-10\n",
            "Epoch 172/300\n",
            "10/10 [==============================] - 0s 9ms/step - loss: 16.0928 - regression_loss: 10.9453 - val_loss: 19.9972 - val_regression_loss: 13.7920 - lr: 1.5259e-10\n",
            "Epoch 173/300\n",
            "10/10 [==============================] - 0s 10ms/step - loss: 16.1703 - regression_loss: 10.9453 - val_loss: 19.9972 - val_regression_loss: 13.7920 - lr: 1.5259e-10\n",
            "Epoch 174/300\n",
            " 1/10 [==>...........................] - ETA: 0s - loss: 15.4545 - regression_loss: 10.7060\n",
            "Epoch 174: ReduceLROnPlateau reducing learning rate to 7.629394338515283e-11.\n",
            "10/10 [==============================] - 0s 10ms/step - loss: 16.2009 - regression_loss: 10.9453 - val_loss: 19.9972 - val_regression_loss: 13.7920 - lr: 1.5259e-10\n",
            "Epoch 175/300\n",
            "10/10 [==============================] - 0s 9ms/step - loss: 16.2550 - regression_loss: 10.9453 - val_loss: 19.9972 - val_regression_loss: 13.7920 - lr: 7.6294e-11\n",
            "Epoch 176/300\n",
            "10/10 [==============================] - 0s 9ms/step - loss: 16.2709 - regression_loss: 10.9453 - val_loss: 19.9972 - val_regression_loss: 13.7920 - lr: 7.6294e-11\n",
            "Epoch 177/300\n",
            "10/10 [==============================] - 0s 9ms/step - loss: 16.1510 - regression_loss: 10.9453 - val_loss: 19.9972 - val_regression_loss: 13.7920 - lr: 7.6294e-11\n",
            "Epoch 178/300\n",
            "10/10 [==============================] - 0s 10ms/step - loss: 16.2417 - regression_loss: 10.9453 - val_loss: 19.9972 - val_regression_loss: 13.7920 - lr: 7.6294e-11\n",
            "Epoch 179/300\n",
            " 1/10 [==>...........................] - ETA: 0s - loss: 17.9034 - regression_loss: 13.1549\n",
            "Epoch 179: ReduceLROnPlateau reducing learning rate to 3.8146971692576415e-11.\n",
            "10/10 [==============================] - 0s 10ms/step - loss: 16.1666 - regression_loss: 10.9453 - val_loss: 19.9972 - val_regression_loss: 13.7920 - lr: 7.6294e-11\n",
            "Epoch 180/300\n",
            "10/10 [==============================] - 0s 8ms/step - loss: 16.2695 - regression_loss: 10.9453 - val_loss: 19.9972 - val_regression_loss: 13.7920 - lr: 3.8147e-11\n",
            "Epoch 181/300\n",
            "10/10 [==============================] - 0s 8ms/step - loss: 16.2873 - regression_loss: 10.9453 - val_loss: 19.9972 - val_regression_loss: 13.7920 - lr: 3.8147e-11\n",
            "Epoch 182/300\n",
            "10/10 [==============================] - 0s 8ms/step - loss: 16.1690 - regression_loss: 10.9453 - val_loss: 19.9972 - val_regression_loss: 13.7920 - lr: 3.8147e-11\n",
            "Epoch 183/300\n",
            "10/10 [==============================] - 0s 8ms/step - loss: 16.2099 - regression_loss: 10.9453 - val_loss: 19.9972 - val_regression_loss: 13.7920 - lr: 3.8147e-11\n",
            "Epoch 184/300\n",
            " 1/10 [==>...........................] - ETA: 0s - loss: 16.6977 - regression_loss: 11.9492\n",
            "Epoch 184: ReduceLROnPlateau reducing learning rate to 1.9073485846288207e-11.\n",
            "10/10 [==============================] - 0s 10ms/step - loss: 16.2917 - regression_loss: 10.9453 - val_loss: 19.9972 - val_regression_loss: 13.7920 - lr: 3.8147e-11\n",
            "Epoch 185/300\n",
            "10/10 [==============================] - 0s 8ms/step - loss: 16.2236 - regression_loss: 10.9453 - val_loss: 19.9972 - val_regression_loss: 13.7920 - lr: 1.9073e-11\n",
            "Epoch 186/300\n",
            "10/10 [==============================] - 0s 11ms/step - loss: 16.2754 - regression_loss: 10.9453 - val_loss: 19.9972 - val_regression_loss: 13.7920 - lr: 1.9073e-11\n",
            "Epoch 187/300\n",
            "10/10 [==============================] - 0s 10ms/step - loss: 16.1224 - regression_loss: 10.9453 - val_loss: 19.9972 - val_regression_loss: 13.7920 - lr: 1.9073e-11\n",
            "Epoch 188/300\n",
            "10/10 [==============================] - 0s 11ms/step - loss: 16.0638 - regression_loss: 10.9453 - val_loss: 19.9972 - val_regression_loss: 13.7920 - lr: 1.9073e-11\n",
            "Epoch 189/300\n",
            " 1/10 [==>...........................] - ETA: 0s - loss: 17.3741 - regression_loss: 12.6256\n",
            "Epoch 189: ReduceLROnPlateau reducing learning rate to 9.536742923144104e-12.\n",
            "10/10 [==============================] - 0s 9ms/step - loss: 16.1654 - regression_loss: 10.9453 - val_loss: 19.9972 - val_regression_loss: 13.7920 - lr: 1.9073e-11\n",
            "Epoch 190/300\n",
            "10/10 [==============================] - 0s 10ms/step - loss: 16.1952 - regression_loss: 10.9453 - val_loss: 19.9972 - val_regression_loss: 13.7920 - lr: 9.5367e-12\n",
            "Epoch 191/300\n",
            "10/10 [==============================] - 0s 11ms/step - loss: 16.2390 - regression_loss: 10.9453 - val_loss: 19.9972 - val_regression_loss: 13.7920 - lr: 9.5367e-12\n",
            "Epoch 192/300\n",
            "10/10 [==============================] - 0s 10ms/step - loss: 16.3243 - regression_loss: 10.9453 - val_loss: 19.9972 - val_regression_loss: 13.7920 - lr: 9.5367e-12\n",
            "Epoch 193/300\n",
            "10/10 [==============================] - 0s 8ms/step - loss: 16.3261 - regression_loss: 10.9453 - val_loss: 19.9972 - val_regression_loss: 13.7920 - lr: 9.5367e-12\n",
            "Epoch 194/300\n",
            "10/10 [==============================] - ETA: 0s - loss: 16.1958 - regression_loss: 10.9453\n",
            "Epoch 194: ReduceLROnPlateau reducing learning rate to 4.768371461572052e-12.\n",
            "10/10 [==============================] - 0s 11ms/step - loss: 16.1958 - regression_loss: 10.9453 - val_loss: 19.9972 - val_regression_loss: 13.7920 - lr: 9.5367e-12\n",
            "Epoch 195/300\n",
            "10/10 [==============================] - 0s 11ms/step - loss: 16.1518 - regression_loss: 10.9453 - val_loss: 19.9972 - val_regression_loss: 13.7920 - lr: 4.7684e-12\n",
            "Epoch 196/300\n",
            "10/10 [==============================] - 0s 10ms/step - loss: 16.2142 - regression_loss: 10.9453 - val_loss: 19.9972 - val_regression_loss: 13.7920 - lr: 4.7684e-12\n",
            "Epoch 197/300\n",
            "10/10 [==============================] - 0s 13ms/step - loss: 16.3250 - regression_loss: 10.9453 - val_loss: 19.9972 - val_regression_loss: 13.7920 - lr: 4.7684e-12\n",
            "Epoch 198/300\n",
            "10/10 [==============================] - 0s 11ms/step - loss: 16.1245 - regression_loss: 10.9453 - val_loss: 19.9972 - val_regression_loss: 13.7920 - lr: 4.7684e-12\n",
            "Epoch 199/300\n",
            " 1/10 [==>...........................] - ETA: 0s - loss: 13.7789 - regression_loss: 9.0304\n",
            "Epoch 199: ReduceLROnPlateau reducing learning rate to 2.384185730786026e-12.\n",
            "10/10 [==============================] - 0s 10ms/step - loss: 16.2127 - regression_loss: 10.9453 - val_loss: 19.9972 - val_regression_loss: 13.7920 - lr: 4.7684e-12\n",
            "Epoch 200/300\n",
            "10/10 [==============================] - 0s 9ms/step - loss: 16.3267 - regression_loss: 10.9453 - val_loss: 19.9972 - val_regression_loss: 13.7920 - lr: 2.3842e-12\n",
            "Epoch 201/300\n",
            "10/10 [==============================] - 0s 11ms/step - loss: 16.2631 - regression_loss: 10.9453 - val_loss: 19.9972 - val_regression_loss: 13.7920 - lr: 2.3842e-12\n",
            "Epoch 202/300\n",
            "10/10 [==============================] - 0s 9ms/step - loss: 16.3247 - regression_loss: 10.9453 - val_loss: 19.9972 - val_regression_loss: 13.7920 - lr: 2.3842e-12\n",
            "Epoch 203/300\n",
            "10/10 [==============================] - 0s 12ms/step - loss: 16.0865 - regression_loss: 10.9453 - val_loss: 19.9972 - val_regression_loss: 13.7920 - lr: 2.3842e-12\n",
            "Epoch 204/300\n",
            " 8/10 [=======================>......] - ETA: 0s - loss: 16.5411 - regression_loss: 11.7926\n",
            "Epoch 204: ReduceLROnPlateau reducing learning rate to 1.192092865393013e-12.\n",
            "10/10 [==============================] - 0s 11ms/step - loss: 16.2704 - regression_loss: 10.9453 - val_loss: 19.9972 - val_regression_loss: 13.7920 - lr: 2.3842e-12\n",
            "Epoch 205/300\n",
            "10/10 [==============================] - 0s 10ms/step - loss: 16.2594 - regression_loss: 10.9453 - val_loss: 19.9972 - val_regression_loss: 13.7920 - lr: 1.1921e-12\n",
            "Epoch 206/300\n",
            "10/10 [==============================] - 0s 13ms/step - loss: 16.1862 - regression_loss: 10.9453 - val_loss: 19.9972 - val_regression_loss: 13.7920 - lr: 1.1921e-12\n",
            "Epoch 207/300\n",
            "10/10 [==============================] - 0s 11ms/step - loss: 16.2420 - regression_loss: 10.9453 - val_loss: 19.9972 - val_regression_loss: 13.7920 - lr: 1.1921e-12\n",
            "Epoch 208/300\n",
            "10/10 [==============================] - 0s 8ms/step - loss: 16.3209 - regression_loss: 10.9453 - val_loss: 19.9972 - val_regression_loss: 13.7920 - lr: 1.1921e-12\n",
            "Epoch 209/300\n",
            " 1/10 [==>...........................] - ETA: 0s - loss: 17.0425 - regression_loss: 12.2940\n",
            "Epoch 209: ReduceLROnPlateau reducing learning rate to 5.960464326965065e-13.\n",
            "10/10 [==============================] - 0s 10ms/step - loss: 16.1702 - regression_loss: 10.9453 - val_loss: 19.9972 - val_regression_loss: 13.7920 - lr: 1.1921e-12\n",
            "Epoch 210/300\n",
            "10/10 [==============================] - 0s 8ms/step - loss: 16.2584 - regression_loss: 10.9453 - val_loss: 19.9972 - val_regression_loss: 13.7920 - lr: 5.9605e-13\n",
            "Epoch 211/300\n",
            "10/10 [==============================] - 0s 9ms/step - loss: 16.2807 - regression_loss: 10.9453 - val_loss: 19.9972 - val_regression_loss: 13.7920 - lr: 5.9605e-13\n",
            "Epoch 212/300\n",
            "10/10 [==============================] - 0s 9ms/step - loss: 16.1782 - regression_loss: 10.9453 - val_loss: 19.9972 - val_regression_loss: 13.7920 - lr: 5.9605e-13\n",
            "Epoch 213/300\n",
            "10/10 [==============================] - 0s 8ms/step - loss: 16.2786 - regression_loss: 10.9453 - val_loss: 19.9972 - val_regression_loss: 13.7920 - lr: 5.9605e-13\n",
            "DONE!\n"
          ]
        }
      ]
    },
    {
      "cell_type": "code",
      "source": [
        "# Since we know the true CATEs in our simulations, let's plot our results against the true values..\n",
        "\n",
        "import pandas as pd\n",
        "\n",
        "def plot_cates(y0_pred,y1_pred,data):\n",
        "  #dont forget to rescale the outcome before estimation!\n",
        "  y0_pred = data['y_scaler'].inverse_transform(y0_pred)\n",
        "  y1_pred = data['y_scaler'].inverse_transform(y1_pred)\n",
        "  cate_pred=(y1_pred-y0_pred).squeeze()\n",
        "  cate_true=(data['mu_1']-data['mu_0']).squeeze() #Hill's noiseless true values\n",
        "  ate_pred=tf.reduce_mean(cate_pred)\n",
        "\n",
        "  print(pd.Series(cate_pred).plot.kde(color='blue'))\n",
        "  print(pd.Series(cate_true).plot.kde(color='green'))\n",
        "\n",
        "  print(pd.Series(cate_true-cate_pred).plot.kde(color='red'))\n",
        "  pehe=tf.reduce_mean( tf.square( ( cate_true - cate_pred) ) )\n",
        "  sqrt_pehe=tf.sqrt(pehe).numpy()\n",
        "  print(\"\\nSQRT PEHE:\",sqrt_pehe)\n",
        "  print(\"Estimated ATE (True is 4):\", ate_pred.numpy(),'\\n\\n')\n",
        "  \n",
        "  print(\"\\nError CATE Estimates: RED\")\n",
        "  print(\"Individualized CATE Estimates: BLUE\")\n",
        "  print(\"Individualized CATE True: GREEN\")\n",
        "  return sqrt_pehe,np.abs(ate_pred.numpy()-4)"
      ],
      "metadata": {
        "id": "tPeOyF98jTmI"
      },
      "execution_count": 15,
      "outputs": []
    },
    {
      "cell_type": "code",
      "source": [
        "# Estimating the ATE/CATE\n",
        "\n",
        "concat_pred=tarnet_model.predict(data['x'])\n",
        "#dont forget to rescale the outcome before estimation!\n",
        "y0_pred_tarnet,y1_pred_tarnet = (concat_pred[:, 0].reshape(-1,1)),(concat_pred[:, 1].reshape(-1,1))\n",
        "plot_cates(y0_pred_tarnet,y1_pred_tarnet,data)"
      ],
      "metadata": {
        "id": "MohVOZAx2fMo",
        "colab": {
          "base_uri": "https://localhost:8080/",
          "height": 508
        },
        "outputId": "bf82d5a6-1bea-4ae4-98f7-0343b312d826"
      },
      "execution_count": 16,
      "outputs": [
        {
          "output_type": "stream",
          "name": "stdout",
          "text": [
            "24/24 [==============================] - 0s 2ms/step\n",
            "AxesSubplot(0.125,0.125;0.775x0.755)\n",
            "AxesSubplot(0.125,0.125;0.775x0.755)\n",
            "AxesSubplot(0.125,0.125;0.775x0.755)\n",
            "\n",
            "SQRT PEHE: 0.6377308\n",
            "Estimated ATE (True is 4): 3.696423 \n",
            "\n",
            "\n",
            "\n",
            "Error CATE Estimates: RED\n",
            "Individualized CATE Estimates: BLUE\n",
            "Individualized CATE True: GREEN\n"
          ]
        },
        {
          "output_type": "execute_result",
          "data": {
            "text/plain": [
              "(0.6377308, 0.3035769462585449)"
            ]
          },
          "metadata": {},
          "execution_count": 16
        },
        {
          "output_type": "display_data",
          "data": {
            "text/plain": [
              "<Figure size 432x288 with 1 Axes>"
            ],
            "image/png": "[encoded data removed]"
          },
          "metadata": {
            "needs_background": "light"
          }
        }
      ]
    },
    {
      "cell_type": "code",
      "source": [
        "# # Load Facet Dive\n",
        "\n",
        "# #@title Load Facet Dive { display-mode: \"form\" }\n",
        "# cate_pred=(y1_pred_tarnet-y0_pred_tarnet).squeeze()\n",
        "# data['cate_pred']=cate_pred\n",
        "# facet_df=pd.DataFrame(data['x'])\n",
        "# facet_df['t']=data['t']\n",
        "# facet_df['y']=data['y']\n",
        "# facet_df['cate_pred']=data['cate_pred']\n",
        "\n",
        "\n",
        "# # Display the Dive visualization for the training data.\n",
        "# from IPython.core.display import display, HTML\n",
        "\n",
        "# jsonstr = facet_df.to_json(orient='records')\n",
        "# HTML_TEMPLATE = \"\"\"\n",
        "#         <script src=\"https://cdnjs.cloudflare.com/ajax/libs/webcomponentsjs/1.3.3/webcomponents-lite.js\"></script>\n",
        "#         <link rel=\"import\" href=\"https://raw.githubusercontent.com/PAIR-code/facets/1.0.0/facets-dist/facets-jupyter.html\">\n",
        "#         <facets-dive id=\"elem\" height=\"600\"></facets-dive>\n",
        "#         <script>\n",
        "#           var data = {jsonstr};\n",
        "#           document.querySelector(\"#elem\").data = data;\n",
        "#         </script>\"\"\"\n",
        "# html = HTML_TEMPLATE.format(jsonstr=jsonstr)\n",
        "# display(HTML(html))"
      ],
      "metadata": {
        "id": "AdKXQxITHKS3"
      },
      "execution_count": 17,
      "outputs": []
    },
    {
      "cell_type": "code",
      "source": [
        "# Save model : method 1:"
      ],
      "metadata": {
        "id": "ZhBUkTf82_Hr"
      },
      "execution_count": 18,
      "outputs": []
    },
    {
      "cell_type": "code",
      "source": [
        "# # save the Tarnet deep learning model using HDF5 standard\n",
        "# # The '.h5' extension indicates that the model should be saved to HDF5.\n",
        "\n",
        "# tarnet_model.save('Tarnet_model.h5')"
      ],
      "metadata": {
        "id": "Dn51NcGJROaR"
      },
      "execution_count": 19,
      "outputs": []
    },
    {
      "cell_type": "code",
      "source": [
        "# # Now, recreate the model from that file:\n",
        "# # Recreate the exact same model, including its weights and the optimizer\n",
        "\n",
        "# new_model = tensorflow.keras.models.load_model('Tarnet_model.h5')"
      ],
      "metadata": {
        "id": "LWKj6B2HoBEa"
      },
      "execution_count": 20,
      "outputs": []
    },
    {
      "cell_type": "code",
      "source": [
        "# # Show the model architecture\n",
        "# new_model.summary()"
      ],
      "metadata": {
        "id": "MaTcKcD3oQlF"
      },
      "execution_count": 21,
      "outputs": []
    },
    {
      "cell_type": "code",
      "source": [
        "# STEPS: Method 2:"
      ],
      "metadata": {
        "id": "eI6_lCEiqIEw"
      },
      "execution_count": 22,
      "outputs": []
    },
    {
      "cell_type": "code",
      "source": [
        "# # Calling `save('my_model')` creates a SavedModel folder `my_model`.\n",
        "# model.save(\"my_model\")\n",
        "# # It can be used to reconstruct the model identically.\n",
        "# reconstructed_model = keras.models.load_model(\"my_model\")\n",
        "\n",
        "# What the SavedModel contains:\n",
        "# Calling model.save('my_model') creates a folder named my_model, containing the following:\n",
        "# By using command the following files are visible :- ls my_model:\n",
        "# assets  keras_metadata.pb  saved_model.pb  variables\n",
        "\n",
        "# The model architecture, and training configuration (including the optimizer, losses, and metrics) are stored \n",
        "# in saved_model.pb. The weights are saved in the variables/ directory.\n",
        "\n",
        "# For detailed information on the SavedModel format, see the SavedModel guide (The SavedModel format on disk).\n",
        "\n",
        "# How SavedModel handles custom objects\n",
        "# When saving the model and its layers, the SavedModel format stores the class name, call function, losses, and weights \n",
        "# (and the config, if implemented). The call function defines the computation graph of the model/layer.\n",
        "\n",
        "# In the absence of the model/layer config, the call function is used to create a model that exists like the original model which \n",
        "# can be trained, evaluated, and used for inference.\n",
        "\n",
        "# Nevertheless, it is always a good practice to define the get_config and from_config methods when writing a custom model or \n",
        "# layer class. This allows you to easily update the computation later if needed. See the section about Custom objects for more \n",
        "# information."
      ],
      "metadata": {
        "id": "a6kCzLtopzex"
      },
      "execution_count": 23,
      "outputs": []
    },
    {
      "cell_type": "code",
      "source": [],
      "metadata": {
        "id": "U0_0prCm0pJA"
      },
      "execution_count": 23,
      "outputs": []
    },
    {
      "cell_type": "code",
      "source": [],
      "metadata": {
        "id": "CQscjmr00pMy"
      },
      "execution_count": 23,
      "outputs": []
    },
    {
      "cell_type": "code",
      "source": [
        "# tarnet_model.save(\"my_model\")\n",
        "# ls my_model"
      ],
      "metadata": {
        "id": "L0zijlqiq7Sz"
      },
      "execution_count": 24,
      "outputs": []
    },
    {
      "cell_type": "code",
      "source": [],
      "metadata": {
        "id": "a3NLHwVTrEoC"
      },
      "execution_count": 24,
      "outputs": []
    },
    {
      "cell_type": "code",
      "source": [
        "# Method 3:"
      ],
      "metadata": {
        "id": "k05D6LyYrOCL"
      },
      "execution_count": 25,
      "outputs": []
    },
    {
      "cell_type": "code",
      "source": [
        "# Saving the model \n",
        "# creating a new directory for model weights\n",
        "import os\n",
        "model_weight_dir = 'Weights'\n",
        "\n",
        "os.makedirs(model_weight_dir, exist_ok = True)\n",
        "\n",
        "# saving the model weights\n",
        "tarnet_model.save(os.path.join(model_weight_dir,'tarnet_model.tf'),save_format ='tf')"
      ],
      "metadata": {
        "id": "mo2zyISurrYi"
      },
      "execution_count": 26,
      "outputs": []
    },
    {
      "cell_type": "code",
      "source": [
        "# loading the save model\n",
        "tarnet_load_model = tf.keras.models.load_model(os.path.join(model_weight_dir,'tarnet_model.tf'), compile=False) "
      ],
      "metadata": {
        "colab": {
          "base_uri": "https://localhost:8080/"
        },
        "id": "jMaHrmWF0-tG",
        "outputId": "e067f616-9f2e-4767-a858-a957a33b3d31"
      },
      "execution_count": 27,
      "outputs": [
        {
          "output_type": "stream",
          "name": "stderr",
          "text": [
            "WARNING:tensorflow:Unable to restore custom metric. Please ensure that the layer implements `get_config` and `from_config` when saving. In addition, please use the `custom_objects` arg when calling `load_model()`.\n"
          ]
        }
      ]
    },
    {
      "cell_type": "code",
      "source": [
        "tarnet_load_model.summary()"
      ],
      "metadata": {
        "colab": {
          "base_uri": "https://localhost:8080/"
        },
        "id": "f7H-43871KG6",
        "outputId": "5db77aa0-19d6-49a4-eaca-3972e5320df7"
      },
      "execution_count": 28,
      "outputs": [
        {
          "output_type": "stream",
          "name": "stdout",
          "text": [
            "Model: \"model\"\n",
            "__________________________________________________________________________________________________\n",
            " Layer (type)                   Output Shape         Param #     Connected to                     \n",
            "==================================================================================================\n",
            " input (InputLayer)             [(None, 25)]         0           []                               \n",
            "                                                                                                  \n",
            " phi_1 (Dense)                  (None, 200)          5200        ['input[0][0]']                  \n",
            "                                                                                                  \n",
            " phi_2 (Dense)                  (None, 200)          40200       ['phi_1[0][0]']                  \n",
            "                                                                                                  \n",
            " phi_3 (Dense)                  (None, 200)          40200       ['phi_2[0][0]']                  \n",
            "                                                                                                  \n",
            " y0_hidden_1 (Dense)            (None, 100)          20100       ['phi_3[0][0]']                  \n",
            "                                                                                                  \n",
            " y1_hidden_1 (Dense)            (None, 100)          20100       ['phi_3[0][0]']                  \n",
            "                                                                                                  \n",
            " y0_hidden_2 (Dense)            (None, 100)          10100       ['y0_hidden_1[0][0]']            \n",
            "                                                                                                  \n",
            " y1_hidden_2 (Dense)            (None, 100)          10100       ['y1_hidden_1[0][0]']            \n",
            "                                                                                                  \n",
            " y0_predictions (Dense)         (None, 1)            101         ['y0_hidden_2[0][0]']            \n",
            "                                                                                                  \n",
            " y1_predictions (Dense)         (None, 1)            101         ['y1_hidden_2[0][0]']            \n",
            "                                                                                                  \n",
            " concatenate (Concatenate)      (None, 2)            0           ['y0_predictions[0][0]',         \n",
            "                                                                  'y1_predictions[0][0]']         \n",
            "                                                                                                  \n",
            "==================================================================================================\n",
            "Total params: 146,202\n",
            "Trainable params: 146,202\n",
            "Non-trainable params: 0\n",
            "__________________________________________________________________________________________________\n"
          ]
        }
      ]
    },
    {
      "cell_type": "code",
      "source": [
        "# # Evaluation \n",
        "# evaluation = load_model.evaluate(x = x_ts, y = y_ts, batch_size = 512)"
      ],
      "metadata": {
        "id": "meSItbw82iQa"
      },
      "execution_count": 29,
      "outputs": []
    },
    {
      "cell_type": "code",
      "source": [
        "# Checking params of the saved model from the unsaved:\n",
        "# Total params: 146,202\n",
        "# Trainable params: 146,202\n",
        "# Non-trainable params: 0"
      ],
      "metadata": {
        "id": "ZsQeH75x2015"
      },
      "execution_count": 30,
      "outputs": []
    },
    {
      "cell_type": "code",
      "source": [
        "# from google.colab import files\n",
        "# files.download(\"/content/Weights\")"
      ],
      "metadata": {
        "id": "YwaQxCXhwrKt"
      },
      "execution_count": 31,
      "outputs": []
    },
    {
      "cell_type": "code",
      "source": [
        "# for downloading folder from colab\n",
        "\n",
        "!zip -r Weights.zip Weights/ "
      ],
      "metadata": {
        "colab": {
          "base_uri": "https://localhost:8080/"
        },
        "id": "0sp763iLwuQ8",
        "outputId": "9da7b088-b77c-4aa3-baff-830ae63fef71"
      },
      "execution_count": 32,
      "outputs": [
        {
          "output_type": "stream",
          "name": "stdout",
          "text": [
            "  adding: Weights/ (stored 0%)\n",
            "  adding: Weights/tarnet_model.tf/ (stored 0%)\n",
            "  adding: Weights/tarnet_model.tf/assets/ (stored 0%)\n",
            "  adding: Weights/tarnet_model.tf/keras_metadata.pb (deflated 93%)\n",
            "  adding: Weights/tarnet_model.tf/saved_model.pb (deflated 91%)\n",
            "  adding: Weights/tarnet_model.tf/variables/ (stored 0%)\n",
            "  adding: Weights/tarnet_model.tf/variables/variables.index (deflated 71%)\n",
            "  adding: Weights/tarnet_model.tf/variables/variables.data-00000-of-00001 (deflated 8%)\n"
          ]
        }
      ]
    },
    {
      "cell_type": "markdown",
      "source": [
        "# User-Test Function (prediction script) "
      ],
      "metadata": {
        "id": "ZCyxW7RKis2p"
      }
    },
    {
      "cell_type": "code",
      "source": [
        "import numpy as np\n",
        "import pandas as pd\n",
        "\n",
        "import tensorflow as tf\n",
        "from sklearn.preprocessing import StandardScaler\n",
        "\n",
        "from tensorflow.keras.callbacks import EarlyStopping, ReduceLROnPlateau, TerminateOnNaN\n",
        "from tensorflow.keras.optimizers import SGD\n",
        "\n",
        "from tensorflow import keras\n",
        "from tensorflow.keras.layers import Input\n",
        "from tensorflow.keras.layers import Dense\n",
        "from tensorflow.keras.layers import Concatenate\n",
        "from tensorflow.keras import regularizers\n",
        "from tensorflow.keras import Model"
      ],
      "metadata": {
        "id": "x2EKIbUX0caQ"
      },
      "execution_count": 33,
      "outputs": []
    },
    {
      "cell_type": "code",
      "source": [
        "# loading the save model\n",
        "tarnet_load_model = tf.keras.models.load_model(os.path.join(model_weight_dir,'tarnet_model.tf'), compile=False) "
      ],
      "metadata": {
        "colab": {
          "base_uri": "https://localhost:8080/"
        },
        "id": "_IycWHUOjg_q",
        "outputId": "978ce23e-5bf2-4c6c-b549-b03dac5a9815"
      },
      "execution_count": 34,
      "outputs": [
        {
          "output_type": "stream",
          "name": "stderr",
          "text": [
            "WARNING:tensorflow:Unable to restore custom metric. Please ensure that the layer implements `get_config` and `from_config` when saving. In addition, please use the `custom_objects` arg when calling `load_model()`.\n"
          ]
        }
      ]
    },
    {
      "cell_type": "code",
      "source": [
        "tarnet_load_model.summary()"
      ],
      "metadata": {
        "colab": {
          "base_uri": "https://localhost:8080/"
        },
        "id": "cS0VhUdtjsCe",
        "outputId": "35779158-7fae-457f-b497-db0ac1c0d399"
      },
      "execution_count": 35,
      "outputs": [
        {
          "output_type": "stream",
          "name": "stdout",
          "text": [
            "Model: \"model\"\n",
            "__________________________________________________________________________________________________\n",
            " Layer (type)                   Output Shape         Param #     Connected to                     \n",
            "==================================================================================================\n",
            " input (InputLayer)             [(None, 25)]         0           []                               \n",
            "                                                                                                  \n",
            " phi_1 (Dense)                  (None, 200)          5200        ['input[0][0]']                  \n",
            "                                                                                                  \n",
            " phi_2 (Dense)                  (None, 200)          40200       ['phi_1[0][0]']                  \n",
            "                                                                                                  \n",
            " phi_3 (Dense)                  (None, 200)          40200       ['phi_2[0][0]']                  \n",
            "                                                                                                  \n",
            " y0_hidden_1 (Dense)            (None, 100)          20100       ['phi_3[0][0]']                  \n",
            "                                                                                                  \n",
            " y1_hidden_1 (Dense)            (None, 100)          20100       ['phi_3[0][0]']                  \n",
            "                                                                                                  \n",
            " y0_hidden_2 (Dense)            (None, 100)          10100       ['y0_hidden_1[0][0]']            \n",
            "                                                                                                  \n",
            " y1_hidden_2 (Dense)            (None, 100)          10100       ['y1_hidden_1[0][0]']            \n",
            "                                                                                                  \n",
            " y0_predictions (Dense)         (None, 1)            101         ['y0_hidden_2[0][0]']            \n",
            "                                                                                                  \n",
            " y1_predictions (Dense)         (None, 1)            101         ['y1_hidden_2[0][0]']            \n",
            "                                                                                                  \n",
            " concatenate (Concatenate)      (None, 2)            0           ['y0_predictions[0][0]',         \n",
            "                                                                  'y1_predictions[0][0]']         \n",
            "                                                                                                  \n",
            "==================================================================================================\n",
            "Total params: 146,202\n",
            "Trainable params: 146,202\n",
            "Non-trainable params: 0\n",
            "__________________________________________________________________________________________________\n"
          ]
        }
      ]
    },
    {
      "cell_type": "code",
      "source": [
        "# Since we know the true CATEs in our simulations, let's plot our results against the true values..\n",
        "\n",
        "def plot_cates(y0_pred,y1_pred,data):\n",
        "  #dont forget to rescale the outcome before estimation!\n",
        "  y0_pred = data['y_scaler'].inverse_transform(y0_pred)\n",
        "  y1_pred = data['y_scaler'].inverse_transform(y1_pred)\n",
        "  cate_pred=(y1_pred-y0_pred).squeeze()\n",
        "  cate_true=(data['mu_1']-data['mu_0']).squeeze() #Hill's noiseless true values\n",
        "  ate_pred=tf.reduce_mean(cate_pred)\n",
        "\n",
        "  print(pd.Series(cate_pred).plot.kde(color='blue'))\n",
        "  print(pd.Series(cate_true).plot.kde(color='green'))\n",
        "\n",
        "  print(pd.Series(cate_true-cate_pred).plot.kde(color='red'))\n",
        "  pehe=tf.reduce_mean( tf.square( ( cate_true - cate_pred) ) )\n",
        "  sqrt_pehe=tf.sqrt(pehe).numpy()\n",
        "  print(\"\\nSQRT PEHE:\",sqrt_pehe)\n",
        "  print(\"Estimated ATE (True is 4):\", ate_pred.numpy(),'\\n\\n')\n",
        "  \n",
        "  print(\"\\nError CATE Estimates: RED\")\n",
        "  print(\"Individualized CATE Estimates: BLUE\")\n",
        "  print(\"Individualized CATE True: GREEN\")\n",
        "  return sqrt_pehe,np.abs(ate_pred.numpy()-4)"
      ],
      "metadata": {
        "id": "vH-uRFm9jwMJ"
      },
      "execution_count": 36,
      "outputs": []
    },
    {
      "cell_type": "code",
      "source": [
        "# Estimating the ATE/CATE\n",
        "\n",
        "concat_pred=tarnet_model.predict(data['x'])\n",
        "#dont forget to rescale the outcome before estimation!\n",
        "y0_pred_tarnet,y1_pred_tarnet = (concat_pred[:, 0].reshape(-1,1)),(concat_pred[:, 1].reshape(-1,1))\n",
        "plot_cates(y0_pred_tarnet,y1_pred_tarnet,data)"
      ],
      "metadata": {
        "colab": {
          "base_uri": "https://localhost:8080/",
          "height": 508
        },
        "id": "8nsBYX7bkCIS",
        "outputId": "b3619c00-6511-4143-a3ba-bbfd527d9205"
      },
      "execution_count": 37,
      "outputs": [
        {
          "output_type": "stream",
          "name": "stdout",
          "text": [
            "24/24 [==============================] - 0s 2ms/step\n",
            "AxesSubplot(0.125,0.125;0.775x0.755)\n",
            "AxesSubplot(0.125,0.125;0.775x0.755)\n",
            "AxesSubplot(0.125,0.125;0.775x0.755)\n",
            "\n",
            "SQRT PEHE: 0.6377308\n",
            "Estimated ATE (True is 4): 3.696423 \n",
            "\n",
            "\n",
            "\n",
            "Error CATE Estimates: RED\n",
            "Individualized CATE Estimates: BLUE\n",
            "Individualized CATE True: GREEN\n"
          ]
        },
        {
          "output_type": "execute_result",
          "data": {
            "text/plain": [
              "(0.6377308, 0.3035769462585449)"
            ]
          },
          "metadata": {},
          "execution_count": 37
        },
        {
          "output_type": "display_data",
          "data": {
            "text/plain": [
              "<Figure size 432x288 with 1 Axes>"
            ],
            "image/png": "[encoded data removed]"
          },
          "metadata": {
            "needs_background": "light"
          }
        }
      ]
    },
    {
      "cell_type": "code",
      "source": [],
      "metadata": {
        "id": "-MXrm_o1kGxf"
      },
      "execution_count": null,
      "outputs": []
    }
  ]
}